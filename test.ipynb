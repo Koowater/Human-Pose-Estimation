{
 "metadata": {
  "language_info": {
   "codemirror_mode": {
    "name": "ipython",
    "version": 3
   },
   "file_extension": ".py",
   "mimetype": "text/x-python",
   "name": "python",
   "nbconvert_exporter": "python",
   "pygments_lexer": "ipython3",
   "version": "3.8.5-final"
  },
  "orig_nbformat": 2,
  "kernelspec": {
   "name": "python3",
   "display_name": "Python 3",
   "language": "python"
  }
 },
 "nbformat": 4,
 "nbformat_minor": 2,
 "cells": [
  {
   "cell_type": "code",
   "execution_count": 1,
   "metadata": {},
   "outputs": [],
   "source": [
    "import os\n",
    "import time\n",
    "import numpy as np\n",
    "\n",
    "import cv2\n",
    "import PIL\n",
    "import tensorflow as tf\n",
    "import imageio"
   ]
  },
  {
   "cell_type": "code",
   "execution_count": 2,
   "metadata": {},
   "outputs": [
    {
     "output_type": "stream",
     "name": "stdout",
     "text": [
      "7.0.0\n"
     ]
    }
   ],
   "source": [
    "print(PIL.__version__)"
   ]
  },
  {
   "cell_type": "code",
   "execution_count": 13,
   "metadata": {},
   "outputs": [],
   "source": [
    "image_folder = 'data/images/'\n",
    "img_list = os.listdir(image_folder)\n",
    "len_img = len(img_list)\n",
    "num = len_img"
   ]
  },
  {
   "cell_type": "code",
   "execution_count": 9,
   "metadata": {},
   "outputs": [
    {
     "output_type": "stream",
     "name": "stdout",
     "text": [
      "0.016423702239990234\n"
     ]
    }
   ],
   "source": [
    "start = time.time()\n",
    "for img_dir in img_list[:num]:\n",
    "    img = cv2.imread(os.path.join(image_folder, img_dir), cv2.IMREAD_COLOR)\n",
    "end = time.time() - start\n",
    "print(end)"
   ]
  },
  {
   "cell_type": "code",
   "execution_count": 10,
   "metadata": {},
   "outputs": [
    {
     "output_type": "stream",
     "name": "stdout",
     "text": [
      "0.012067556381225586\n"
     ]
    }
   ],
   "source": [
    "start = time.time()\n",
    "for img_dir in img_list[:num]:\n",
    "    img = PIL.Image.open(os.path.join(image_folder, img_dir))\n",
    "    img = np.array(img)\n",
    "end = time.time() - start\n",
    "print(end)"
   ]
  },
  {
   "cell_type": "code",
   "execution_count": 14,
   "metadata": {},
   "outputs": [
    {
     "output_type": "stream",
     "name": "stdout",
     "text": [
      "165.64685487747192\n"
     ]
    }
   ],
   "source": [
    "start = time.time()\n",
    "for img_dir in img_list[:num]:\n",
    "    img = tf.io.read_file(os.path.join(image_folder, img_dir))\n",
    "    img = tf.image.decode_jpeg(img, channels=3)\n",
    "    img = img.numpy()\n",
    "end = time.time() - start\n",
    "print(end)"
   ]
  },
  {
   "cell_type": "code",
   "execution_count": 12,
   "metadata": {},
   "outputs": [
    {
     "output_type": "stream",
     "name": "stdout",
     "text": [
      "0.011040210723876953\n"
     ]
    }
   ],
   "source": [
    "start = time.time()\n",
    "for img_dir in img_list[:num]:\n",
    "    img = imageio.imread(os.path.join(image_folder, img_dir))\n",
    "end = time.time() - start\n",
    "print(end)"
   ]
  },
  {
   "cell_type": "code",
   "execution_count": 173,
   "metadata": {},
   "outputs": [
    {
     "output_type": "stream",
     "name": "stdout",
     "text": [
      "(478, 854, 3)\n"
     ]
    }
   ],
   "source": []
  },
  {
   "cell_type": "code",
   "execution_count": 91,
   "metadata": {},
   "outputs": [],
   "source": [
    "def gen():\n",
    "    for i in range(5):\n",
    "        yield i"
   ]
  },
  {
   "cell_type": "code",
   "execution_count": 92,
   "metadata": {},
   "outputs": [],
   "source": [
    "ds = tf.data.Dataset.from_generator(\n",
    "    gen,\n",
    "    output_types=(tf.int32),\n",
    "    output_shapes=(()))"
   ]
  },
  {
   "cell_type": "code",
   "execution_count": 75,
   "metadata": {},
   "outputs": [
    {
     "output_type": "stream",
     "name": "stdout",
     "text": [
      "(10,) [ 0 11 17  9  2 10  6 15  8  7]\n"
     ]
    }
   ],
   "source": [
    "ds_batch = ds.shuffle(2).batch(10)\n",
    "result = next(iter(ds_batch))\n",
    "print(result.shape, result.numpy())"
   ]
  },
  {
   "cell_type": "code",
   "execution_count": 59,
   "metadata": {},
   "outputs": [
    {
     "output_type": "stream",
     "name": "stdout",
     "text": [
      "tf.Tensor([0 1 2 3 4 5 6 7 8 9], shape=(10,), dtype=int32)\n"
     ]
    }
   ],
   "source": [
    "ds_batch = ds.batch(10)\n",
    "print(next(iter(ds_batch)))"
   ]
  },
  {
   "cell_type": "code",
   "execution_count": 112,
   "metadata": {},
   "outputs": [
    {
     "output_type": "stream",
     "name": "stdout",
     "text": [
      "tf.Tensor([0 2 3 4 1], shape=(5,), dtype=int32)\n"
     ]
    }
   ],
   "source": [
    "ds_batch = ds.shuffle(2, reshuffle_each_iteration=False).batch(10)\n",
    "print(next(iter(ds_batch)))"
   ]
  },
  {
   "cell_type": "code",
   "execution_count": 113,
   "metadata": {},
   "outputs": [
    {
     "output_type": "stream",
     "name": "stdout",
     "text": [
      "[array([0, 2, 3, 4, 1], dtype=int32), array([0, 2, 3, 4, 1], dtype=int32)]\n"
     ]
    }
   ],
   "source": [
    "ds_repeat = ds_batch.repeat(2)\n",
    "print(list(ds_repeat.as_numpy_iterator()))"
   ]
  },
  {
   "cell_type": "code",
   "execution_count": 132,
   "metadata": {},
   "outputs": [],
   "source": [
    "class glass():\n",
    "    def view(self):\n",
    "        print(self.num)\n",
    "\n",
    "    def grow(self):\n",
    "        self.num += 1\n",
    "\n",
    "    def seed(self):\n",
    "        self.num = 0    "
   ]
  },
  {
   "cell_type": "code",
   "execution_count": 133,
   "metadata": {},
   "outputs": [],
   "source": [
    "glass = glass()"
   ]
  },
  {
   "cell_type": "code",
   "execution_count": 135,
   "metadata": {},
   "outputs": [],
   "source": [
    "glass.seed()"
   ]
  },
  {
   "cell_type": "code",
   "execution_count": 136,
   "metadata": {},
   "outputs": [
    {
     "output_type": "stream",
     "name": "stdout",
     "text": [
      "0\n"
     ]
    }
   ],
   "source": [
    "glass.view()"
   ]
  },
  {
   "cell_type": "code",
   "execution_count": 127,
   "metadata": {},
   "outputs": [
    {
     "output_type": "stream",
     "name": "stdout",
     "text": [
      "1\n"
     ]
    }
   ],
   "source": [
    "glass.grow()\n",
    "glass.view()"
   ]
  },
  {
   "cell_type": "code",
   "execution_count": null,
   "metadata": {},
   "outputs": [],
   "source": []
  }
 ]
}