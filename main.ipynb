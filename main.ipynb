{
 "cells": [
  {
   "cell_type": "code",
   "execution_count": 2,
   "metadata": {},
   "outputs": [
    {
     "output_type": "stream",
     "name": "stdout",
     "text": [
      "INFO:tensorflow:Enabling eager execution\n",
      "INFO:tensorflow:Enabling v2 tensorshape\n",
      "INFO:tensorflow:Enabling resource variables\n",
      "INFO:tensorflow:Enabling tensor equality\n",
      "INFO:tensorflow:Enabling control flow v2\n",
      "[PhysicalDevice(name='/physical_device:GPU:0', device_type='GPU')]\n"
     ]
    }
   ],
   "source": [
    "from task.model_v005 import HPE, HeatmapLoss, lr_scheduler\n",
    "from data.dp import Dataset\n",
    "import tensorflow as tf\n",
    "import matplotlib.pyplot as plt\n",
    "import os\n",
    "print(tf.config.list_physical_devices('GPU'))"
   ]
  },
  {
   "cell_type": "code",
   "execution_count": 3,
   "metadata": {
    "scrolled": true
   },
   "outputs": [],
   "source": [
    "model = HPE()"
   ]
  },
  {
   "cell_type": "code",
   "execution_count": 3,
   "metadata": {},
   "outputs": [],
   "source": [
    "# checkpoint\n",
    "\n",
    "checkpoint_path = \"data/checkpoint_v005/cp-{epoch:04d}.ckpt\"\n",
    "checkpoint_dir = os.path.dirname(checkpoint_path)\n",
    "\n",
    "cp_callback = tf.keras.callbacks.ModelCheckpoint(\n",
    "    filepath=checkpoint_path, \n",
    "    verbose=1, \n",
    "    save_weights_only=True,\n",
    "    save_freq='epoch')\n",
    "\n",
    "model.save_weights(checkpoint_path.format(epoch=0))"
   ]
  },
  {
   "cell_type": "code",
   "execution_count": 4,
   "metadata": {},
   "outputs": [
    {
     "output_type": "stream",
     "name": "stdout",
     "text": [
      "loading data: train.h5\n",
      "Done (t=3.27s)\n",
      "loading data: valid.h5\n",
      "Done (t=0.43s)\n"
     ]
    }
   ],
   "source": [
    "INPUT_RES = 256\n",
    "OUTPUT_RES = 64\n",
    "NUM_PARTS = 16\n",
    "TRAIN_FILE = 'train.h5'\n",
    "VALID_FILE = 'valid.h5'\n",
    "BATCH_SIZE = 16\n",
    "\n",
    "t_ds = Dataset(INPUT_RES, OUTPUT_RES, NUM_PARTS, TRAIN_FILE)\n",
    "v_ds = Dataset(INPUT_RES, OUTPUT_RES, NUM_PARTS, VALID_FILE)\n",
    "train = t_ds.tf_dataset_from_generator(BATCH_SIZE)\n",
    "valid = v_ds.tf_dataset_from_generator(BATCH_SIZE)"
   ]
  },
  {
   "cell_type": "code",
   "execution_count": 5,
   "metadata": {},
   "outputs": [],
   "source": [
    "lr = tf.keras.callbacks.LearningRateScheduler(lr_scheduler)"
   ]
  },
  {
   "cell_type": "code",
   "execution_count": 6,
   "metadata": {},
   "outputs": [
    {
     "output_type": "stream",
     "name": "stdout",
     "text": [
      "Epoch 1/50\n",
      "1400/1400 [==============================] - 854s 594ms/step - loss: 0.0210 - val_loss: 8.7988e-04\n",
      "\n",
      "Epoch 00001: saving model to data/checkpoint_Conv2dT_4/cp-0001.ckpt\n",
      "Epoch 2/50\n",
      "1400/1400 [==============================] - 835s 597ms/step - loss: 0.0026 - val_loss: 0.0398\n",
      "\n",
      "Epoch 00002: saving model to data/checkpoint_Conv2dT_4/cp-0002.ckpt\n",
      "Epoch 3/50\n",
      "1400/1400 [==============================] - 834s 596ms/step - loss: 0.0023 - val_loss: 0.0013\n",
      "\n",
      "Epoch 00003: saving model to data/checkpoint_Conv2dT_4/cp-0003.ckpt\n",
      "Epoch 4/50\n",
      "1400/1400 [==============================] - 834s 596ms/step - loss: 0.0017 - val_loss: 7.1841e-04\n",
      "\n",
      "Epoch 00004: saving model to data/checkpoint_Conv2dT_4/cp-0004.ckpt\n",
      "Epoch 5/50\n",
      "1400/1400 [==============================] - 833s 595ms/step - loss: 5.8290e-04 - val_loss: 7.0167e-04\n",
      "\n",
      "Epoch 00005: saving model to data/checkpoint_Conv2dT_4/cp-0005.ckpt\n",
      "Epoch 6/50\n",
      "1400/1400 [==============================] - 833s 595ms/step - loss: 5.5157e-04 - val_loss: 6.9665e-04\n",
      "\n",
      "Epoch 00006: saving model to data/checkpoint_Conv2dT_4/cp-0006.ckpt\n",
      "Epoch 7/50\n",
      "1400/1400 [==============================] - 834s 596ms/step - loss: 5.3014e-04 - val_loss: 7.0383e-04\n",
      "\n",
      "Epoch 00007: saving model to data/checkpoint_Conv2dT_4/cp-0007.ckpt\n",
      "Epoch 8/50\n",
      "1400/1400 [==============================] - 834s 596ms/step - loss: 5.1226e-04 - val_loss: 6.9720e-04\n",
      "\n",
      "Epoch 00008: saving model to data/checkpoint_Conv2dT_4/cp-0008.ckpt\n",
      "Epoch 9/50\n",
      "1400/1400 [==============================] - 834s 595ms/step - loss: 4.9561e-04 - val_loss: 6.9615e-04\n",
      "\n",
      "Epoch 00009: saving model to data/checkpoint_Conv2dT_4/cp-0009.ckpt\n",
      "Epoch 10/50\n",
      "1400/1400 [==============================] - 835s 596ms/step - loss: 4.8397e-04 - val_loss: 6.9933e-04\n",
      "\n",
      "Epoch 00010: saving model to data/checkpoint_Conv2dT_4/cp-0010.ckpt\n",
      "Epoch 11/50\n",
      "1400/1400 [==============================] - 833s 595ms/step - loss: 4.7507e-04 - val_loss: 7.0194e-04\n",
      "\n",
      "Epoch 00011: saving model to data/checkpoint_Conv2dT_4/cp-0011.ckpt\n",
      "Epoch 12/50\n",
      "1400/1400 [==============================] - 835s 596ms/step - loss: 4.6525e-04 - val_loss: 6.9247e-04\n",
      "\n",
      "Epoch 00012: saving model to data/checkpoint_Conv2dT_4/cp-0012.ckpt\n",
      "Epoch 13/50\n",
      "1400/1400 [==============================] - 834s 596ms/step - loss: 4.5438e-04 - val_loss: 7.0059e-04\n",
      "\n",
      "Epoch 00013: saving model to data/checkpoint_Conv2dT_4/cp-0013.ckpt\n",
      "Epoch 14/50\n",
      "1400/1400 [==============================] - 835s 597ms/step - loss: 4.4752e-04 - val_loss: 6.9714e-04\n",
      "\n",
      "Epoch 00014: saving model to data/checkpoint_Conv2dT_4/cp-0014.ckpt\n",
      "Epoch 15/50\n",
      "1400/1400 [==============================] - 835s 596ms/step - loss: 4.4147e-04 - val_loss: 6.8451e-04\n",
      "\n",
      "Epoch 00015: saving model to data/checkpoint_Conv2dT_4/cp-0015.ckpt\n",
      "Epoch 16/50\n",
      "1400/1400 [==============================] - 834s 596ms/step - loss: 4.3652e-04 - val_loss: 6.9799e-04\n",
      "\n",
      "Epoch 00016: saving model to data/checkpoint_Conv2dT_4/cp-0016.ckpt\n",
      "Epoch 17/50\n",
      "1400/1400 [==============================] - 835s 597ms/step - loss: 4.3300e-04 - val_loss: 6.9238e-04\n",
      "\n",
      "Epoch 00017: saving model to data/checkpoint_Conv2dT_4/cp-0017.ckpt\n",
      "Epoch 18/50\n",
      "1400/1400 [==============================] - 835s 597ms/step - loss: 4.2598e-04 - val_loss: 6.9296e-04\n",
      "\n",
      "Epoch 00018: saving model to data/checkpoint_Conv2dT_4/cp-0018.ckpt\n",
      "Epoch 19/50\n",
      "1400/1400 [==============================] - 834s 596ms/step - loss: 4.2384e-04 - val_loss: 6.9721e-04\n",
      "\n",
      "Epoch 00019: saving model to data/checkpoint_Conv2dT_4/cp-0019.ckpt\n",
      "Epoch 20/50\n",
      "1400/1400 [==============================] - 833s 595ms/step - loss: 4.1960e-04 - val_loss: 6.9389e-04\n",
      "\n",
      "Epoch 00020: saving model to data/checkpoint_Conv2dT_4/cp-0020.ckpt\n",
      "Epoch 21/50\n",
      "1400/1400 [==============================] - 834s 596ms/step - loss: 4.1399e-04 - val_loss: 6.8820e-04\n",
      "\n",
      "Epoch 00021: saving model to data/checkpoint_Conv2dT_4/cp-0021.ckpt\n",
      "Epoch 22/50\n",
      "1400/1400 [==============================] - 835s 596ms/step - loss: 4.1169e-04 - val_loss: 6.9286e-04\n",
      "\n",
      "Epoch 00022: saving model to data/checkpoint_Conv2dT_4/cp-0022.ckpt\n",
      "Epoch 23/50\n",
      "1400/1400 [==============================] - 835s 597ms/step - loss: 4.0739e-04 - val_loss: 6.8706e-04\n",
      "\n",
      "Epoch 00023: saving model to data/checkpoint_Conv2dT_4/cp-0023.ckpt\n",
      "Epoch 24/50\n",
      "1400/1400 [==============================] - 833s 595ms/step - loss: 4.0417e-04 - val_loss: 6.8504e-04\n",
      "\n",
      "Epoch 00024: saving model to data/checkpoint_Conv2dT_4/cp-0024.ckpt\n",
      "Epoch 25/50\n",
      "1400/1400 [==============================] - 834s 596ms/step - loss: 4.0355e-04 - val_loss: 6.9033e-04\n",
      "\n",
      "Epoch 00025: saving model to data/checkpoint_Conv2dT_4/cp-0025.ckpt\n",
      "Epoch 26/50\n",
      "1400/1400 [==============================] - 835s 597ms/step - loss: 3.9766e-04 - val_loss: 6.8724e-04\n",
      "\n",
      "Epoch 00026: saving model to data/checkpoint_Conv2dT_4/cp-0026.ckpt\n",
      "Epoch 27/50\n",
      "1400/1400 [==============================] - 836s 597ms/step - loss: 3.9594e-04 - val_loss: 6.9416e-04\n",
      "\n",
      "Epoch 00027: saving model to data/checkpoint_Conv2dT_4/cp-0027.ckpt\n",
      "Epoch 28/50\n",
      "1400/1400 [==============================] - 836s 597ms/step - loss: 3.9386e-04 - val_loss: 6.8894e-04\n",
      "\n",
      "Epoch 00028: saving model to data/checkpoint_Conv2dT_4/cp-0028.ckpt\n",
      "Epoch 29/50\n",
      "1400/1400 [==============================] - 835s 596ms/step - loss: 3.9007e-04 - val_loss: 6.8702e-04\n",
      "\n",
      "Epoch 00029: saving model to data/checkpoint_Conv2dT_4/cp-0029.ckpt\n",
      "Epoch 30/50\n",
      "1400/1400 [==============================] - 835s 596ms/step - loss: 3.8779e-04 - val_loss: 6.9097e-04\n",
      "\n",
      "Epoch 00030: saving model to data/checkpoint_Conv2dT_4/cp-0030.ckpt\n",
      "Epoch 31/50\n",
      "1400/1400 [==============================] - 833s 595ms/step - loss: 3.7651e-04 - val_loss: 6.9632e-04\n",
      "\n",
      "Epoch 00031: saving model to data/checkpoint_Conv2dT_4/cp-0031.ckpt\n",
      "Epoch 32/50\n",
      "1400/1400 [==============================] - 830s 593ms/step - loss: 3.7188e-04 - val_loss: 6.9825e-04\n",
      "\n",
      "Epoch 00032: saving model to data/checkpoint_Conv2dT_4/cp-0032.ckpt\n",
      "Epoch 33/50\n",
      "1400/1400 [==============================] - 828s 592ms/step - loss: 3.6941e-04 - val_loss: 6.9726e-04\n",
      "\n",
      "Epoch 00033: saving model to data/checkpoint_Conv2dT_4/cp-0033.ckpt\n",
      "Epoch 34/50\n",
      "1400/1400 [==============================] - 827s 591ms/step - loss: 3.6849e-04 - val_loss: 6.9935e-04\n",
      "\n",
      "Epoch 00034: saving model to data/checkpoint_Conv2dT_4/cp-0034.ckpt\n",
      "Epoch 35/50\n",
      "1400/1400 [==============================] - 827s 591ms/step - loss: 3.6491e-04 - val_loss: 6.9433e-04\n",
      "\n",
      "Epoch 00035: saving model to data/checkpoint_Conv2dT_4/cp-0035.ckpt\n",
      "Epoch 36/50\n",
      "1400/1400 [==============================] - 827s 590ms/step - loss: 3.6257e-04 - val_loss: 6.9731e-04\n",
      "\n",
      "Epoch 00036: saving model to data/checkpoint_Conv2dT_4/cp-0036.ckpt\n",
      "Epoch 37/50\n",
      "1400/1400 [==============================] - 828s 591ms/step - loss: 3.6444e-04 - val_loss: 7.0174e-04\n",
      "\n",
      "Epoch 00037: saving model to data/checkpoint_Conv2dT_4/cp-0037.ckpt\n",
      "Epoch 38/50\n",
      "1400/1400 [==============================] - 828s 591ms/step - loss: 3.6064e-04 - val_loss: 6.9853e-04\n",
      "\n",
      "Epoch 00038: saving model to data/checkpoint_Conv2dT_4/cp-0038.ckpt\n",
      "Epoch 39/50\n",
      "1400/1400 [==============================] - 828s 592ms/step - loss: 3.6152e-04 - val_loss: 6.9755e-04\n",
      "\n",
      "Epoch 00039: saving model to data/checkpoint_Conv2dT_4/cp-0039.ckpt\n",
      "Epoch 40/50\n",
      "1400/1400 [==============================] - 830s 593ms/step - loss: 3.5838e-04 - val_loss: 6.9621e-04\n",
      "\n",
      "Epoch 00040: saving model to data/checkpoint_Conv2dT_4/cp-0040.ckpt\n",
      "Epoch 41/50\n",
      "1400/1400 [==============================] - 835s 596ms/step - loss: 3.5334e-04 - val_loss: 6.9835e-04\n",
      "\n",
      "Epoch 00041: saving model to data/checkpoint_Conv2dT_4/cp-0041.ckpt\n",
      "Epoch 42/50\n",
      "1400/1400 [==============================] - 835s 596ms/step - loss: 3.4742e-04 - val_loss: 7.0054e-04\n",
      "\n",
      "Epoch 00042: saving model to data/checkpoint_Conv2dT_4/cp-0042.ckpt\n",
      "Epoch 43/50\n",
      "1400/1400 [==============================] - 833s 595ms/step - loss: 3.4529e-04 - val_loss: 7.0033e-04\n",
      "\n",
      "Epoch 00043: saving model to data/checkpoint_Conv2dT_4/cp-0043.ckpt\n",
      "Epoch 44/50\n",
      "1400/1400 [==============================] - 835s 596ms/step - loss: 3.4486e-04 - val_loss: 7.0257e-04\n",
      "\n",
      "Epoch 00044: saving model to data/checkpoint_Conv2dT_4/cp-0044.ckpt\n",
      "Epoch 45/50\n",
      "1400/1400 [==============================] - 833s 595ms/step - loss: 3.4272e-04 - val_loss: 7.0254e-04\n",
      "\n",
      "Epoch 00045: saving model to data/checkpoint_Conv2dT_4/cp-0045.ckpt\n",
      "Epoch 46/50\n",
      "1400/1400 [==============================] - 832s 594ms/step - loss: 3.4338e-04 - val_loss: 7.0086e-04\n",
      "\n",
      "Epoch 00046: saving model to data/checkpoint_Conv2dT_4/cp-0046.ckpt\n",
      "Epoch 47/50\n",
      "1400/1400 [==============================] - 830s 593ms/step - loss: 3.4192e-04 - val_loss: 7.0172e-04\n",
      "\n",
      "Epoch 00047: saving model to data/checkpoint_Conv2dT_4/cp-0047.ckpt\n",
      "Epoch 48/50\n",
      "1400/1400 [==============================] - 829s 592ms/step - loss: 3.4092e-04 - val_loss: 7.0348e-04\n",
      "\n",
      "Epoch 00048: saving model to data/checkpoint_Conv2dT_4/cp-0048.ckpt\n",
      "Epoch 49/50\n",
      "1400/1400 [==============================] - 829s 592ms/step - loss: 3.4032e-04 - val_loss: 7.0466e-04\n",
      "\n",
      "Epoch 00049: saving model to data/checkpoint_Conv2dT_4/cp-0049.ckpt\n",
      "Epoch 50/50\n",
      "1400/1400 [==============================] - 830s 593ms/step - loss: 3.3963e-04 - val_loss: 7.0495e-04\n",
      "\n",
      "Epoch 00050: saving model to data/checkpoint_Conv2dT_4/cp-0050.ckpt\n"
     ]
    }
   ],
   "source": [
    "hist = model.fit(train.take(1400), validation_data=valid.take(190), callbacks=[lr, cp_callback], epochs=50)"
   ]
  },
  {
   "cell_type": "code",
   "execution_count": null,
   "metadata": {},
   "outputs": [],
   "source": [
    "split = text.split()"
   ]
  },
  {
   "cell_type": "code",
   "execution_count": 25,
   "metadata": {},
   "outputs": [],
   "source": [
    "loss = []\n",
    "val_loss = []\n",
    "for i, word in enumerate(split):\n",
    "    if word == 'loss:':\n",
    "        loss.append(split[i+1])\n",
    "    if word == 'val_loss:':\n",
    "        val_loss.append(split[i+1])"
   ]
  },
  {
   "cell_type": "code",
   "execution_count": 26,
   "metadata": {},
   "outputs": [
    {
     "output_type": "stream",
     "name": "stdout",
     "text": [
      "50 ['0.0167', '7.0976e-04', '7.0141e-04', '6.9979e-04', '6.9464e-04', '6.8450e-04', '6.6742e-04', '6.3766e-04', '6.0917e-04', '5.8350e-04', '5.5718e-04', '5.3403e-04', '5.1418e-04', '5.0008e-04', '4.8478e-04', '4.7516e-04', '4.6728e-04', '4.5836e-04', '4.5070e-04', '4.4624e-04', '4.1794e-04', '4.0883e-04', '4.0340e-04', '4.0305e-04', '3.9808e-04', '3.9969e-04', '3.9708e-04', '3.9498e-04', '3.9160e-04', '3.9061e-04', '3.8892e-04', '3.8618e-04', '3.8819e-04', '3.8660e-04', '3.8564e-04', '3.8791e-04', '3.8479e-04', '3.8544e-04', '3.8361e-04', '3.8365e-04', '3.8432e-04', '3.8454e-04', '3.8473e-04', '3.8207e-04', '3.8268e-04', '3.8667e-04', '3.8304e-04', '3.8300e-04', '3.8430e-04', '3.8352e-04']\n50 ['7.5666e-04', '7.1974e-04', '7.4031e-04', '7.5497e-04', '0.0015', '0.0012', '6.7621e-04', '6.2701e-04', '5.9090e-04', '6.4839e-04', '5.7269e-04', '5.8684e-04', '5.1554e-04', '5.9516e-04', '5.5749e-04', '4.7619e-04', '7.8448e-04', '0.0012', '5.8313e-04', '0.0043', '4.3929e-04', '4.4352e-04', '4.3267e-04', '4.2301e-04', '4.2128e-04', '4.3424e-04', '4.1976e-04', '4.1153e-04', '4.1327e-04', '4.1583e-04', '4.0235e-04', '3.9975e-04', '4.0077e-04', '4.0056e-04', '3.9910e-04', '4.0144e-04', '3.9964e-04', '4.0133e-04', '4.0133e-04', '4.0027e-04', '4.0038e-04', '3.9867e-04', '4.0045e-04', '4.0059e-04', '3.9865e-04', '4.0041e-04', '4.0067e-04', '3.9898e-04', '3.9976e-04', '3.9843e-04']\n"
     ]
    }
   ],
   "source": [
    "print(len(loss), loss)\n",
    "print(len(val_loss), val_loss)"
   ]
  },
  {
   "cell_type": "code",
   "execution_count": 16,
   "metadata": {},
   "outputs": [
    {
     "output_type": "stream",
     "name": "stdout",
     "text": [
      "[0.0167     0.00070976 0.00070141 0.00069979 0.00069464 0.0006845\n 0.00066742 0.00063766 0.00060917 0.0005835  0.00055718 0.00053403\n 0.00051418 0.00050008 0.00048478 0.00047516 0.00046728 0.00045836\n 0.0004507  0.00044624 0.00041794 0.00040883 0.0004034  0.00040305\n 0.00039808 0.00039969 0.00039708 0.00039498 0.0003916  0.00039061\n 0.00038892 0.00038618 0.00038819 0.0003866  0.00038564 0.00038791\n 0.00038479 0.00038544 0.00038361 0.00038365 0.00038432 0.00038454\n 0.00038473 0.00038207 0.00038268 0.00038667 0.00038304 0.000383\n 0.0003843  0.00038352]\n"
     ]
    }
   ],
   "source": [
    "import numpy as np\n",
    "loss = np.array(loss).astype(np.float64)\n",
    "print(loss)"
   ]
  },
  {
   "cell_type": "code",
   "execution_count": 17,
   "metadata": {},
   "outputs": [
    {
     "output_type": "stream",
     "name": "stdout",
     "text": [
      "[0.00075666 0.00071974 0.00074031 0.00075497 0.0015     0.0012\n 0.00067621 0.00062701 0.0005909  0.00064839 0.00057269 0.00058684\n 0.00051554 0.00059516 0.00055749 0.00047619 0.00078448 0.0012\n 0.00058313 0.0043     0.00043929 0.00044352 0.00043267 0.00042301\n 0.00042128 0.00043424 0.00041976 0.00041153 0.00041327 0.00041583\n 0.00040235 0.00039975 0.00040077 0.00040056 0.0003991  0.00040144\n 0.00039964 0.00040133 0.00040133 0.00040027 0.00040038 0.00039867\n 0.00040045 0.00040059 0.00039865 0.00040041 0.00040067 0.00039898\n 0.00039976 0.00039843]\n"
     ]
    }
   ],
   "source": [
    "val_loss = np.array(val_loss).astype(np.float64)\n",
    "print(val_loss)"
   ]
  },
  {
   "cell_type": "code",
   "execution_count": 13,
   "metadata": {},
   "outputs": [],
   "source": [
    "loss = '''\n",
    "0.0167     0.00070976 0.00070141 0.00069979 0.00069464 0.0006845\n",
    " 0.00066742 0.00063766 0.00060917 0.0005835  0.00055718 0.00053403\n",
    " 0.00051418 0.00050008 0.00048478 0.00047516 0.00046728 0.00045836\n",
    " 0.0004507  0.00044624 0.00041794 0.00040883 0.0004034  0.00040305\n",
    " 0.00039808 0.00039969 0.00039708 0.00039498 0.0003916  0.00039061\n",
    " 0.00038892 0.00038618 0.00038819 0.0003866  0.00038564 0.00038791\n",
    " 0.00038479 0.00038544 0.00038361 0.00038365 0.00038432 0.00038454\n",
    " 0.00038473 0.00038207 0.00038268 0.00038667 0.00038304 0.000383\n",
    " 0.0003843  0.00038352\n",
    "'''\n",
    "val_loss = '''\n",
    "0.00075666 0.00071974 0.00074031 0.00075497 0.0015     0.0012\n",
    " 0.00067621 0.00062701 0.0005909  0.00064839 0.00057269 0.00058684\n",
    " 0.00051554 0.00059516 0.00055749 0.00047619 0.00078448 0.0012\n",
    " 0.00058313 0.0043     0.00043929 0.00044352 0.00043267 0.00042301\n",
    " 0.00042128 0.00043424 0.00041976 0.00041153 0.00041327 0.00041583\n",
    " 0.00040235 0.00039975 0.00040077 0.00040056 0.0003991  0.00040144\n",
    " 0.00039964 0.00040133 0.00040133 0.00040027 0.00040038 0.00039867\n",
    " 0.00040045 0.00040059 0.00039865 0.00040041 0.00040067 0.00039898\n",
    " 0.00039976 0.00039843\n",
    "'''"
   ]
  },
  {
   "cell_type": "code",
   "execution_count": 14,
   "metadata": {},
   "outputs": [],
   "source": [
    "loss = loss.split()\n",
    "val_loss = val_loss.split()"
   ]
  },
  {
   "cell_type": "code",
   "execution_count": 15,
   "metadata": {},
   "outputs": [
    {
     "output_type": "execute_result",
     "data": {
      "text/plain": [
       "50"
      ]
     },
     "metadata": {},
     "execution_count": 15
    }
   ],
   "source": []
  },
  {
   "cell_type": "code",
   "execution_count": 38,
   "metadata": {},
   "outputs": [
    {
     "output_type": "execute_result",
     "data": {
      "text/plain": [
       "[<matplotlib.lines.Line2D at 0x7fa042ec5e50>]"
      ]
     },
     "metadata": {},
     "execution_count": 38
    },
    {
     "output_type": "display_data",
     "data": {
      "text/plain": "<Figure size 432x288 with 1 Axes>",
      "image/svg+xml": "<?xml version=\"1.0\" encoding=\"utf-8\" standalone=\"no\"?>\n<!DOCTYPE svg PUBLIC \"-//W3C//DTD SVG 1.1//EN\"\n  \"http://www.w3.org/Graphics/SVG/1.1/DTD/svg11.dtd\">\n<!-- Created with matplotlib (https://matplotlib.org/) -->\n<svg height=\"252.317344pt\" version=\"1.1\" viewBox=\"0 0 397.553125 252.317344\" width=\"397.553125pt\" xmlns=\"http://www.w3.org/2000/svg\" xmlns:xlink=\"http://www.w3.org/1999/xlink\">\n <metadata>\n  <rdf:RDF xmlns:cc=\"http://creativecommons.org/ns#\" xmlns:dc=\"http://purl.org/dc/elements/1.1/\" xmlns:rdf=\"http://www.w3.org/1999/02/22-rdf-syntax-ns#\">\n   <cc:Work>\n    <dc:type rdf:resource=\"http://purl.org/dc/dcmitype/StillImage\"/>\n    <dc:date>2021-04-16T18:24:47.274983</dc:date>\n    <dc:format>image/svg+xml</dc:format>\n    <dc:creator>\n     <cc:Agent>\n      <dc:title>Matplotlib v3.3.4, https://matplotlib.org/</dc:title>\n     </cc:Agent>\n    </dc:creator>\n   </cc:Work>\n  </rdf:RDF>\n </metadata>\n <defs>\n  <style type=\"text/css\">*{stroke-linecap:butt;stroke-linejoin:round;}</style>\n </defs>\n <g id=\"figure_1\">\n  <g id=\"patch_1\">\n   <path d=\"M 0 252.317344 \nL 397.553125 252.317344 \nL 397.553125 0 \nL 0 0 \nz\n\" style=\"fill:none;\"/>\n  </g>\n  <g id=\"axes_1\">\n   <g id=\"patch_2\">\n    <path d=\"M 55.553125 228.439219 \nL 390.353125 228.439219 \nL 390.353125 10.999219 \nL 55.553125 10.999219 \nz\n\" style=\"fill:#ffffff;\"/>\n   </g>\n   <g id=\"matplotlib.axis_1\">\n    <g id=\"xtick_1\">\n     <g id=\"line2d_1\">\n      <defs>\n       <path d=\"M 0 0 \nL 0 3.5 \n\" id=\"mcc6d1faeca\" style=\"stroke:#000000;stroke-width:0.8;\"/>\n      </defs>\n      <g>\n       <use style=\"stroke:#000000;stroke-width:0.8;\" x=\"70.771307\" xlink:href=\"#mcc6d1faeca\" y=\"228.439219\"/>\n      </g>\n     </g>\n     <g id=\"text_1\">\n      <!-- 0 -->\n      <g transform=\"translate(67.590057 243.037656)scale(0.1 -0.1)\">\n       <defs>\n        <path d=\"M 31.78125 66.40625 \nQ 24.171875 66.40625 20.328125 58.90625 \nQ 16.5 51.421875 16.5 36.375 \nQ 16.5 21.390625 20.328125 13.890625 \nQ 24.171875 6.390625 31.78125 6.390625 \nQ 39.453125 6.390625 43.28125 13.890625 \nQ 47.125 21.390625 47.125 36.375 \nQ 47.125 51.421875 43.28125 58.90625 \nQ 39.453125 66.40625 31.78125 66.40625 \nz\nM 31.78125 74.21875 \nQ 44.046875 74.21875 50.515625 64.515625 \nQ 56.984375 54.828125 56.984375 36.375 \nQ 56.984375 17.96875 50.515625 8.265625 \nQ 44.046875 -1.421875 31.78125 -1.421875 \nQ 19.53125 -1.421875 13.0625 8.265625 \nQ 6.59375 17.96875 6.59375 36.375 \nQ 6.59375 54.828125 13.0625 64.515625 \nQ 19.53125 74.21875 31.78125 74.21875 \nz\n\" id=\"DejaVuSans-48\"/>\n       </defs>\n       <use xlink:href=\"#DejaVuSans-48\"/>\n      </g>\n     </g>\n    </g>\n    <g id=\"xtick_2\">\n     <g id=\"line2d_2\">\n      <g>\n       <use style=\"stroke:#000000;stroke-width:0.8;\" x=\"132.886335\" xlink:href=\"#mcc6d1faeca\" y=\"228.439219\"/>\n      </g>\n     </g>\n     <g id=\"text_2\">\n      <!-- 10 -->\n      <g transform=\"translate(126.523835 243.037656)scale(0.1 -0.1)\">\n       <defs>\n        <path d=\"M 12.40625 8.296875 \nL 28.515625 8.296875 \nL 28.515625 63.921875 \nL 10.984375 60.40625 \nL 10.984375 69.390625 \nL 28.421875 72.90625 \nL 38.28125 72.90625 \nL 38.28125 8.296875 \nL 54.390625 8.296875 \nL 54.390625 0 \nL 12.40625 0 \nz\n\" id=\"DejaVuSans-49\"/>\n       </defs>\n       <use xlink:href=\"#DejaVuSans-49\"/>\n       <use x=\"63.623047\" xlink:href=\"#DejaVuSans-48\"/>\n      </g>\n     </g>\n    </g>\n    <g id=\"xtick_3\">\n     <g id=\"line2d_3\">\n      <g>\n       <use style=\"stroke:#000000;stroke-width:0.8;\" x=\"195.001362\" xlink:href=\"#mcc6d1faeca\" y=\"228.439219\"/>\n      </g>\n     </g>\n     <g id=\"text_3\">\n      <!-- 20 -->\n      <g transform=\"translate(188.638862 243.037656)scale(0.1 -0.1)\">\n       <defs>\n        <path d=\"M 19.1875 8.296875 \nL 53.609375 8.296875 \nL 53.609375 0 \nL 7.328125 0 \nL 7.328125 8.296875 \nQ 12.9375 14.109375 22.625 23.890625 \nQ 32.328125 33.6875 34.8125 36.53125 \nQ 39.546875 41.84375 41.421875 45.53125 \nQ 43.3125 49.21875 43.3125 52.78125 \nQ 43.3125 58.59375 39.234375 62.25 \nQ 35.15625 65.921875 28.609375 65.921875 \nQ 23.96875 65.921875 18.8125 64.3125 \nQ 13.671875 62.703125 7.8125 59.421875 \nL 7.8125 69.390625 \nQ 13.765625 71.78125 18.9375 73 \nQ 24.125 74.21875 28.421875 74.21875 \nQ 39.75 74.21875 46.484375 68.546875 \nQ 53.21875 62.890625 53.21875 53.421875 \nQ 53.21875 48.921875 51.53125 44.890625 \nQ 49.859375 40.875 45.40625 35.40625 \nQ 44.1875 33.984375 37.640625 27.21875 \nQ 31.109375 20.453125 19.1875 8.296875 \nz\n\" id=\"DejaVuSans-50\"/>\n       </defs>\n       <use xlink:href=\"#DejaVuSans-50\"/>\n       <use x=\"63.623047\" xlink:href=\"#DejaVuSans-48\"/>\n      </g>\n     </g>\n    </g>\n    <g id=\"xtick_4\">\n     <g id=\"line2d_4\">\n      <g>\n       <use style=\"stroke:#000000;stroke-width:0.8;\" x=\"257.11639\" xlink:href=\"#mcc6d1faeca\" y=\"228.439219\"/>\n      </g>\n     </g>\n     <g id=\"text_4\">\n      <!-- 30 -->\n      <g transform=\"translate(250.75389 243.037656)scale(0.1 -0.1)\">\n       <defs>\n        <path d=\"M 40.578125 39.3125 \nQ 47.65625 37.796875 51.625 33 \nQ 55.609375 28.21875 55.609375 21.1875 \nQ 55.609375 10.40625 48.1875 4.484375 \nQ 40.765625 -1.421875 27.09375 -1.421875 \nQ 22.515625 -1.421875 17.65625 -0.515625 \nQ 12.796875 0.390625 7.625 2.203125 \nL 7.625 11.71875 \nQ 11.71875 9.328125 16.59375 8.109375 \nQ 21.484375 6.890625 26.8125 6.890625 \nQ 36.078125 6.890625 40.9375 10.546875 \nQ 45.796875 14.203125 45.796875 21.1875 \nQ 45.796875 27.640625 41.28125 31.265625 \nQ 36.765625 34.90625 28.71875 34.90625 \nL 20.21875 34.90625 \nL 20.21875 43.015625 \nL 29.109375 43.015625 \nQ 36.375 43.015625 40.234375 45.921875 \nQ 44.09375 48.828125 44.09375 54.296875 \nQ 44.09375 59.90625 40.109375 62.90625 \nQ 36.140625 65.921875 28.71875 65.921875 \nQ 24.65625 65.921875 20.015625 65.03125 \nQ 15.375 64.15625 9.8125 62.3125 \nL 9.8125 71.09375 \nQ 15.4375 72.65625 20.34375 73.4375 \nQ 25.25 74.21875 29.59375 74.21875 \nQ 40.828125 74.21875 47.359375 69.109375 \nQ 53.90625 64.015625 53.90625 55.328125 \nQ 53.90625 49.265625 50.4375 45.09375 \nQ 46.96875 40.921875 40.578125 39.3125 \nz\n\" id=\"DejaVuSans-51\"/>\n       </defs>\n       <use xlink:href=\"#DejaVuSans-51\"/>\n       <use x=\"63.623047\" xlink:href=\"#DejaVuSans-48\"/>\n      </g>\n     </g>\n    </g>\n    <g id=\"xtick_5\">\n     <g id=\"line2d_5\">\n      <g>\n       <use style=\"stroke:#000000;stroke-width:0.8;\" x=\"319.231418\" xlink:href=\"#mcc6d1faeca\" y=\"228.439219\"/>\n      </g>\n     </g>\n     <g id=\"text_5\">\n      <!-- 40 -->\n      <g transform=\"translate(312.868918 243.037656)scale(0.1 -0.1)\">\n       <defs>\n        <path d=\"M 37.796875 64.3125 \nL 12.890625 25.390625 \nL 37.796875 25.390625 \nz\nM 35.203125 72.90625 \nL 47.609375 72.90625 \nL 47.609375 25.390625 \nL 58.015625 25.390625 \nL 58.015625 17.1875 \nL 47.609375 17.1875 \nL 47.609375 0 \nL 37.796875 0 \nL 37.796875 17.1875 \nL 4.890625 17.1875 \nL 4.890625 26.703125 \nz\n\" id=\"DejaVuSans-52\"/>\n       </defs>\n       <use xlink:href=\"#DejaVuSans-52\"/>\n       <use x=\"63.623047\" xlink:href=\"#DejaVuSans-48\"/>\n      </g>\n     </g>\n    </g>\n    <g id=\"xtick_6\">\n     <g id=\"line2d_6\">\n      <g>\n       <use style=\"stroke:#000000;stroke-width:0.8;\" x=\"381.346446\" xlink:href=\"#mcc6d1faeca\" y=\"228.439219\"/>\n      </g>\n     </g>\n     <g id=\"text_6\">\n      <!-- 50 -->\n      <g transform=\"translate(374.983946 243.037656)scale(0.1 -0.1)\">\n       <defs>\n        <path d=\"M 10.796875 72.90625 \nL 49.515625 72.90625 \nL 49.515625 64.59375 \nL 19.828125 64.59375 \nL 19.828125 46.734375 \nQ 21.96875 47.46875 24.109375 47.828125 \nQ 26.265625 48.1875 28.421875 48.1875 \nQ 40.625 48.1875 47.75 41.5 \nQ 54.890625 34.8125 54.890625 23.390625 \nQ 54.890625 11.625 47.5625 5.09375 \nQ 40.234375 -1.421875 26.90625 -1.421875 \nQ 22.3125 -1.421875 17.546875 -0.640625 \nQ 12.796875 0.140625 7.71875 1.703125 \nL 7.71875 11.625 \nQ 12.109375 9.234375 16.796875 8.0625 \nQ 21.484375 6.890625 26.703125 6.890625 \nQ 35.15625 6.890625 40.078125 11.328125 \nQ 45.015625 15.765625 45.015625 23.390625 \nQ 45.015625 31 40.078125 35.4375 \nQ 35.15625 39.890625 26.703125 39.890625 \nQ 22.75 39.890625 18.8125 39.015625 \nQ 14.890625 38.140625 10.796875 36.28125 \nz\n\" id=\"DejaVuSans-53\"/>\n       </defs>\n       <use xlink:href=\"#DejaVuSans-53\"/>\n       <use x=\"63.623047\" xlink:href=\"#DejaVuSans-48\"/>\n      </g>\n     </g>\n    </g>\n   </g>\n   <g id=\"matplotlib.axis_2\">\n    <g id=\"ytick_1\">\n     <g id=\"line2d_7\">\n      <defs>\n       <path d=\"M 0 0 \nL -3.5 0 \n\" id=\"m1a06f3fb69\" style=\"stroke:#000000;stroke-width:0.8;\"/>\n      </defs>\n      <g>\n       <use style=\"stroke:#000000;stroke-width:0.8;\" x=\"55.553125\" xlink:href=\"#m1a06f3fb69\" y=\"206.13768\"/>\n      </g>\n     </g>\n     <g id=\"text_7\">\n      <!-- 0.00025 -->\n      <g transform=\"translate(7.2 209.936899)scale(0.1 -0.1)\">\n       <defs>\n        <path d=\"M 10.6875 12.40625 \nL 21 12.40625 \nL 21 0 \nL 10.6875 0 \nz\n\" id=\"DejaVuSans-46\"/>\n       </defs>\n       <use xlink:href=\"#DejaVuSans-48\"/>\n       <use x=\"63.623047\" xlink:href=\"#DejaVuSans-46\"/>\n       <use x=\"95.410156\" xlink:href=\"#DejaVuSans-48\"/>\n       <use x=\"159.033203\" xlink:href=\"#DejaVuSans-48\"/>\n       <use x=\"222.65625\" xlink:href=\"#DejaVuSans-48\"/>\n       <use x=\"286.279297\" xlink:href=\"#DejaVuSans-50\"/>\n       <use x=\"349.902344\" xlink:href=\"#DejaVuSans-53\"/>\n      </g>\n     </g>\n    </g>\n    <g id=\"ytick_2\">\n     <g id=\"line2d_8\">\n      <g>\n       <use style=\"stroke:#000000;stroke-width:0.8;\" x=\"55.553125\" xlink:href=\"#m1a06f3fb69\" y=\"178.260757\"/>\n      </g>\n     </g>\n     <g id=\"text_8\">\n      <!-- 0.00050 -->\n      <g transform=\"translate(7.2 182.059976)scale(0.1 -0.1)\">\n       <use xlink:href=\"#DejaVuSans-48\"/>\n       <use x=\"63.623047\" xlink:href=\"#DejaVuSans-46\"/>\n       <use x=\"95.410156\" xlink:href=\"#DejaVuSans-48\"/>\n       <use x=\"159.033203\" xlink:href=\"#DejaVuSans-48\"/>\n       <use x=\"222.65625\" xlink:href=\"#DejaVuSans-48\"/>\n       <use x=\"286.279297\" xlink:href=\"#DejaVuSans-53\"/>\n       <use x=\"349.902344\" xlink:href=\"#DejaVuSans-48\"/>\n      </g>\n     </g>\n    </g>\n    <g id=\"ytick_3\">\n     <g id=\"line2d_9\">\n      <g>\n       <use style=\"stroke:#000000;stroke-width:0.8;\" x=\"55.553125\" xlink:href=\"#m1a06f3fb69\" y=\"150.383834\"/>\n      </g>\n     </g>\n     <g id=\"text_9\">\n      <!-- 0.00075 -->\n      <g transform=\"translate(7.2 154.183053)scale(0.1 -0.1)\">\n       <defs>\n        <path d=\"M 8.203125 72.90625 \nL 55.078125 72.90625 \nL 55.078125 68.703125 \nL 28.609375 0 \nL 18.3125 0 \nL 43.21875 64.59375 \nL 8.203125 64.59375 \nz\n\" id=\"DejaVuSans-55\"/>\n       </defs>\n       <use xlink:href=\"#DejaVuSans-48\"/>\n       <use x=\"63.623047\" xlink:href=\"#DejaVuSans-46\"/>\n       <use x=\"95.410156\" xlink:href=\"#DejaVuSans-48\"/>\n       <use x=\"159.033203\" xlink:href=\"#DejaVuSans-48\"/>\n       <use x=\"222.65625\" xlink:href=\"#DejaVuSans-48\"/>\n       <use x=\"286.279297\" xlink:href=\"#DejaVuSans-55\"/>\n       <use x=\"349.902344\" xlink:href=\"#DejaVuSans-53\"/>\n      </g>\n     </g>\n    </g>\n    <g id=\"ytick_4\">\n     <g id=\"line2d_10\">\n      <g>\n       <use style=\"stroke:#000000;stroke-width:0.8;\" x=\"55.553125\" xlink:href=\"#m1a06f3fb69\" y=\"122.506911\"/>\n      </g>\n     </g>\n     <g id=\"text_10\">\n      <!-- 0.00100 -->\n      <g transform=\"translate(7.2 126.30613)scale(0.1 -0.1)\">\n       <use xlink:href=\"#DejaVuSans-48\"/>\n       <use x=\"63.623047\" xlink:href=\"#DejaVuSans-46\"/>\n       <use x=\"95.410156\" xlink:href=\"#DejaVuSans-48\"/>\n       <use x=\"159.033203\" xlink:href=\"#DejaVuSans-48\"/>\n       <use x=\"222.65625\" xlink:href=\"#DejaVuSans-49\"/>\n       <use x=\"286.279297\" xlink:href=\"#DejaVuSans-48\"/>\n       <use x=\"349.902344\" xlink:href=\"#DejaVuSans-48\"/>\n      </g>\n     </g>\n    </g>\n    <g id=\"ytick_5\">\n     <g id=\"line2d_11\">\n      <g>\n       <use style=\"stroke:#000000;stroke-width:0.8;\" x=\"55.553125\" xlink:href=\"#m1a06f3fb69\" y=\"94.629988\"/>\n      </g>\n     </g>\n     <g id=\"text_11\">\n      <!-- 0.00125 -->\n      <g transform=\"translate(7.2 98.429207)scale(0.1 -0.1)\">\n       <use xlink:href=\"#DejaVuSans-48\"/>\n       <use x=\"63.623047\" xlink:href=\"#DejaVuSans-46\"/>\n       <use x=\"95.410156\" xlink:href=\"#DejaVuSans-48\"/>\n       <use x=\"159.033203\" xlink:href=\"#DejaVuSans-48\"/>\n       <use x=\"222.65625\" xlink:href=\"#DejaVuSans-49\"/>\n       <use x=\"286.279297\" xlink:href=\"#DejaVuSans-50\"/>\n       <use x=\"349.902344\" xlink:href=\"#DejaVuSans-53\"/>\n      </g>\n     </g>\n    </g>\n    <g id=\"ytick_6\">\n     <g id=\"line2d_12\">\n      <g>\n       <use style=\"stroke:#000000;stroke-width:0.8;\" x=\"55.553125\" xlink:href=\"#m1a06f3fb69\" y=\"66.753065\"/>\n      </g>\n     </g>\n     <g id=\"text_12\">\n      <!-- 0.00150 -->\n      <g transform=\"translate(7.2 70.552284)scale(0.1 -0.1)\">\n       <use xlink:href=\"#DejaVuSans-48\"/>\n       <use x=\"63.623047\" xlink:href=\"#DejaVuSans-46\"/>\n       <use x=\"95.410156\" xlink:href=\"#DejaVuSans-48\"/>\n       <use x=\"159.033203\" xlink:href=\"#DejaVuSans-48\"/>\n       <use x=\"222.65625\" xlink:href=\"#DejaVuSans-49\"/>\n       <use x=\"286.279297\" xlink:href=\"#DejaVuSans-53\"/>\n       <use x=\"349.902344\" xlink:href=\"#DejaVuSans-48\"/>\n      </g>\n     </g>\n    </g>\n    <g id=\"ytick_7\">\n     <g id=\"line2d_13\">\n      <g>\n       <use style=\"stroke:#000000;stroke-width:0.8;\" x=\"55.553125\" xlink:href=\"#m1a06f3fb69\" y=\"38.876142\"/>\n      </g>\n     </g>\n     <g id=\"text_13\">\n      <!-- 0.00175 -->\n      <g transform=\"translate(7.2 42.675361)scale(0.1 -0.1)\">\n       <use xlink:href=\"#DejaVuSans-48\"/>\n       <use x=\"63.623047\" xlink:href=\"#DejaVuSans-46\"/>\n       <use x=\"95.410156\" xlink:href=\"#DejaVuSans-48\"/>\n       <use x=\"159.033203\" xlink:href=\"#DejaVuSans-48\"/>\n       <use x=\"222.65625\" xlink:href=\"#DejaVuSans-49\"/>\n       <use x=\"286.279297\" xlink:href=\"#DejaVuSans-55\"/>\n       <use x=\"349.902344\" xlink:href=\"#DejaVuSans-53\"/>\n      </g>\n     </g>\n    </g>\n    <g id=\"ytick_8\">\n     <g id=\"line2d_14\">\n      <g>\n       <use style=\"stroke:#000000;stroke-width:0.8;\" x=\"55.553125\" xlink:href=\"#m1a06f3fb69\" y=\"10.999219\"/>\n      </g>\n     </g>\n     <g id=\"text_14\">\n      <!-- 0.00200 -->\n      <g transform=\"translate(7.2 14.798437)scale(0.1 -0.1)\">\n       <use xlink:href=\"#DejaVuSans-48\"/>\n       <use x=\"63.623047\" xlink:href=\"#DejaVuSans-46\"/>\n       <use x=\"95.410156\" xlink:href=\"#DejaVuSans-48\"/>\n       <use x=\"159.033203\" xlink:href=\"#DejaVuSans-48\"/>\n       <use x=\"222.65625\" xlink:href=\"#DejaVuSans-50\"/>\n       <use x=\"286.279297\" xlink:href=\"#DejaVuSans-48\"/>\n       <use x=\"349.902344\" xlink:href=\"#DejaVuSans-48\"/>\n      </g>\n     </g>\n    </g>\n   </g>\n   <g id=\"line2d_15\">\n    <path clip-path=\"url(#p84b42176ee)\" d=\"M 76.439807 -1 \nL 76.98281 154.870904 \nL 83.194312 155.801993 \nL 89.405815 155.982635 \nL 95.617318 156.5569 \nL 101.828821 157.687588 \nL 108.040324 159.592139 \nL 114.251826 162.910608 \nL 120.463329 166.087462 \nL 126.674832 168.949865 \nL 132.886335 171.884747 \nL 139.097837 174.46615 \nL 145.30934 176.679578 \nL 151.520843 178.251837 \nL 157.732346 179.957904 \nL 163.943849 181.030608 \nL 170.155351 181.909289 \nL 176.366854 182.903938 \nL 182.578357 183.758086 \nL 188.78986 184.255411 \nL 195.001362 187.411078 \nL 201.212865 188.426914 \nL 207.424368 189.0324 \nL 213.635871 189.071428 \nL 219.847374 189.625621 \nL 226.058876 189.446094 \nL 232.270379 189.737129 \nL 238.481882 189.971295 \nL 244.693385 190.348191 \nL 250.904888 190.458584 \nL 257.11639 190.647032 \nL 263.327893 190.952563 \nL 269.539396 190.728432 \nL 275.750899 190.90573 \nL 281.962401 191.012777 \nL 288.173904 190.759654 \nL 294.385407 191.107558 \nL 300.59691 191.035078 \nL 306.808413 191.239138 \nL 313.019915 191.234677 \nL 319.231418 191.159967 \nL 325.442921 191.135435 \nL 331.654424 191.114249 \nL 337.865926 191.410859 \nL 344.077429 191.34284 \nL 350.288932 190.897924 \nL 356.500435 191.302697 \nL 362.711938 191.307157 \nL 368.92344 191.162197 \nL 375.134943 191.249173 \n\" style=\"fill:none;stroke:#1f77b4;stroke-linecap:square;stroke-width:1.5;\"/>\n   </g>\n   <g id=\"line2d_16\">\n    <path clip-path=\"url(#p84b42176ee)\" d=\"M 70.771307 149.641193 \nL 76.98281 153.758057 \nL 83.194312 151.464344 \nL 89.405815 149.829641 \nL 95.617318 66.753065 \nL 101.828821 100.205373 \nL 108.040324 158.611987 \nL 114.251826 164.098165 \nL 120.463329 168.124708 \nL 126.674832 161.714131 \nL 132.886335 170.155263 \nL 139.097837 168.577429 \nL 145.30934 176.527928 \nL 151.520843 167.649685 \nL 157.732346 171.85018 \nL 163.943849 180.915755 \nL 170.155351 146.539049 \nL 176.366854 100.205373 \nL 182.578357 168.991123 \nL 185.126013 -1 \nM 192.317201 -1 \nL 195.001362 185.030389 \nL 201.212865 184.558712 \nL 207.424368 185.76857 \nL 213.635871 186.845734 \nL 219.847374 187.038643 \nL 226.058876 185.593503 \nL 232.270379 187.208134 \nL 238.481882 188.125843 \nL 244.693385 187.931819 \nL 250.904888 187.64636 \nL 257.11639 189.149483 \nL 263.327893 189.439403 \nL 269.539396 189.325666 \nL 275.750899 189.349082 \nL 281.962401 189.511883 \nL 288.173904 189.250955 \nL 294.385407 189.451669 \nL 300.59691 189.263221 \nL 306.808413 189.263221 \nL 313.019915 189.381419 \nL 319.231418 189.369154 \nL 325.442921 189.559832 \nL 331.654424 189.361348 \nL 337.865926 189.345737 \nL 344.077429 189.562062 \nL 350.288932 189.365808 \nL 356.500435 189.336816 \nL 362.711938 189.525264 \nL 368.92344 189.438288 \nL 375.134943 189.586594 \n\" style=\"fill:none;stroke:#ff7f0e;stroke-linecap:square;stroke-width:1.5;\"/>\n   </g>\n   <g id=\"patch_3\">\n    <path d=\"M 55.553125 228.439219 \nL 55.553125 10.999219 \n\" style=\"fill:none;stroke:#000000;stroke-linecap:square;stroke-linejoin:miter;stroke-width:0.8;\"/>\n   </g>\n   <g id=\"patch_4\">\n    <path d=\"M 390.353125 228.439219 \nL 390.353125 10.999219 \n\" style=\"fill:none;stroke:#000000;stroke-linecap:square;stroke-linejoin:miter;stroke-width:0.8;\"/>\n   </g>\n   <g id=\"patch_5\">\n    <path d=\"M 55.553125 228.439219 \nL 390.353125 228.439219 \n\" style=\"fill:none;stroke:#000000;stroke-linecap:square;stroke-linejoin:miter;stroke-width:0.8;\"/>\n   </g>\n   <g id=\"patch_6\">\n    <path d=\"M 55.553125 10.999219 \nL 390.353125 10.999219 \n\" style=\"fill:none;stroke:#000000;stroke-linecap:square;stroke-linejoin:miter;stroke-width:0.8;\"/>\n   </g>\n  </g>\n </g>\n <defs>\n  <clipPath id=\"p84b42176ee\">\n   <rect height=\"217.44\" width=\"334.8\" x=\"55.553125\" y=\"10.999219\"/>\n  </clipPath>\n </defs>\n</svg>\n",
      "image/png": "[encoded data removed]"
     },
     "metadata": {
      "needs_background": "light"
     }
    }
   ],
   "source": [
    "plt.ylim([0.00005, 0.002])\n",
    "plt.plot(range(50), loss)\n",
    "plt.plot(range(50), val_loss)"
   ]
  },
  {
   "cell_type": "code",
   "execution_count": 7,
   "metadata": {},
   "outputs": [
    {
     "output_type": "execute_result",
     "data": {
      "text/plain": [
       "[<matplotlib.lines.Line2D at 0x7f0c4c045be0>]"
      ]
     },
     "metadata": {},
     "execution_count": 7
    },
    {
     "output_type": "display_data",
     "data": {
      "text/plain": "<Figure size 432x288 with 1 Axes>",
      "image/svg+xml": "<?xml version=\"1.0\" encoding=\"utf-8\" standalone=\"no\"?>\n<!DOCTYPE svg PUBLIC \"-//W3C//DTD SVG 1.1//EN\"\n  \"http://www.w3.org/Graphics/SVG/1.1/DTD/svg11.dtd\">\n<!-- Created with matplotlib (https://matplotlib.org/) -->\n<svg height=\"252.317344pt\" version=\"1.1\" viewBox=\"0 0 384.828125 252.317344\" width=\"384.828125pt\" xmlns=\"http://www.w3.org/2000/svg\" xmlns:xlink=\"http://www.w3.org/1999/xlink\">\n <metadata>\n  <rdf:RDF xmlns:cc=\"http://creativecommons.org/ns#\" xmlns:dc=\"http://purl.org/dc/elements/1.1/\" xmlns:rdf=\"http://www.w3.org/1999/02/22-rdf-syntax-ns#\">\n   <cc:Work>\n    <dc:type rdf:resource=\"http://purl.org/dc/dcmitype/StillImage\"/>\n    <dc:date>2021-04-18T13:48:05.753463</dc:date>\n    <dc:format>image/svg+xml</dc:format>\n    <dc:creator>\n     <cc:Agent>\n      <dc:title>Matplotlib v3.3.4, https://matplotlib.org/</dc:title>\n     </cc:Agent>\n    </dc:creator>\n   </cc:Work>\n  </rdf:RDF>\n </metadata>\n <defs>\n  <style type=\"text/css\">*{stroke-linecap:butt;stroke-linejoin:round;}</style>\n </defs>\n <g id=\"figure_1\">\n  <g id=\"patch_1\">\n   <path d=\"M 0 252.317344 \nL 384.828125 252.317344 \nL 384.828125 0 \nL 0 0 \nz\n\" style=\"fill:none;\"/>\n  </g>\n  <g id=\"axes_1\">\n   <g id=\"patch_2\">\n    <path d=\"M 42.828125 228.439219 \nL 377.628125 228.439219 \nL 377.628125 10.999219 \nL 42.828125 10.999219 \nz\n\" style=\"fill:#ffffff;\"/>\n   </g>\n   <g id=\"matplotlib.axis_1\">\n    <g id=\"xtick_1\">\n     <g id=\"line2d_1\">\n      <defs>\n       <path d=\"M 0 0 \nL 0 3.5 \n\" id=\"ma33731e253\" style=\"stroke:#000000;stroke-width:0.8;\"/>\n      </defs>\n      <g>\n       <use style=\"stroke:#000000;stroke-width:0.8;\" x=\"58.046307\" xlink:href=\"#ma33731e253\" y=\"228.439219\"/>\n      </g>\n     </g>\n     <g id=\"text_1\">\n      <!-- 0 -->\n      <g transform=\"translate(54.865057 243.037656)scale(0.1 -0.1)\">\n       <defs>\n        <path d=\"M 31.78125 66.40625 \nQ 24.171875 66.40625 20.328125 58.90625 \nQ 16.5 51.421875 16.5 36.375 \nQ 16.5 21.390625 20.328125 13.890625 \nQ 24.171875 6.390625 31.78125 6.390625 \nQ 39.453125 6.390625 43.28125 13.890625 \nQ 47.125 21.390625 47.125 36.375 \nQ 47.125 51.421875 43.28125 58.90625 \nQ 39.453125 66.40625 31.78125 66.40625 \nz\nM 31.78125 74.21875 \nQ 44.046875 74.21875 50.515625 64.515625 \nQ 56.984375 54.828125 56.984375 36.375 \nQ 56.984375 17.96875 50.515625 8.265625 \nQ 44.046875 -1.421875 31.78125 -1.421875 \nQ 19.53125 -1.421875 13.0625 8.265625 \nQ 6.59375 17.96875 6.59375 36.375 \nQ 6.59375 54.828125 13.0625 64.515625 \nQ 19.53125 74.21875 31.78125 74.21875 \nz\n\" id=\"DejaVuSans-48\"/>\n       </defs>\n       <use xlink:href=\"#DejaVuSans-48\"/>\n      </g>\n     </g>\n    </g>\n    <g id=\"xtick_2\">\n     <g id=\"line2d_2\">\n      <g>\n       <use style=\"stroke:#000000;stroke-width:0.8;\" x=\"120.161335\" xlink:href=\"#ma33731e253\" y=\"228.439219\"/>\n      </g>\n     </g>\n     <g id=\"text_2\">\n      <!-- 10 -->\n      <g transform=\"translate(113.798835 243.037656)scale(0.1 -0.1)\">\n       <defs>\n        <path d=\"M 12.40625 8.296875 \nL 28.515625 8.296875 \nL 28.515625 63.921875 \nL 10.984375 60.40625 \nL 10.984375 69.390625 \nL 28.421875 72.90625 \nL 38.28125 72.90625 \nL 38.28125 8.296875 \nL 54.390625 8.296875 \nL 54.390625 0 \nL 12.40625 0 \nz\n\" id=\"DejaVuSans-49\"/>\n       </defs>\n       <use xlink:href=\"#DejaVuSans-49\"/>\n       <use x=\"63.623047\" xlink:href=\"#DejaVuSans-48\"/>\n      </g>\n     </g>\n    </g>\n    <g id=\"xtick_3\">\n     <g id=\"line2d_3\">\n      <g>\n       <use style=\"stroke:#000000;stroke-width:0.8;\" x=\"182.276362\" xlink:href=\"#ma33731e253\" y=\"228.439219\"/>\n      </g>\n     </g>\n     <g id=\"text_3\">\n      <!-- 20 -->\n      <g transform=\"translate(175.913862 243.037656)scale(0.1 -0.1)\">\n       <defs>\n        <path d=\"M 19.1875 8.296875 \nL 53.609375 8.296875 \nL 53.609375 0 \nL 7.328125 0 \nL 7.328125 8.296875 \nQ 12.9375 14.109375 22.625 23.890625 \nQ 32.328125 33.6875 34.8125 36.53125 \nQ 39.546875 41.84375 41.421875 45.53125 \nQ 43.3125 49.21875 43.3125 52.78125 \nQ 43.3125 58.59375 39.234375 62.25 \nQ 35.15625 65.921875 28.609375 65.921875 \nQ 23.96875 65.921875 18.8125 64.3125 \nQ 13.671875 62.703125 7.8125 59.421875 \nL 7.8125 69.390625 \nQ 13.765625 71.78125 18.9375 73 \nQ 24.125 74.21875 28.421875 74.21875 \nQ 39.75 74.21875 46.484375 68.546875 \nQ 53.21875 62.890625 53.21875 53.421875 \nQ 53.21875 48.921875 51.53125 44.890625 \nQ 49.859375 40.875 45.40625 35.40625 \nQ 44.1875 33.984375 37.640625 27.21875 \nQ 31.109375 20.453125 19.1875 8.296875 \nz\n\" id=\"DejaVuSans-50\"/>\n       </defs>\n       <use xlink:href=\"#DejaVuSans-50\"/>\n       <use x=\"63.623047\" xlink:href=\"#DejaVuSans-48\"/>\n      </g>\n     </g>\n    </g>\n    <g id=\"xtick_4\">\n     <g id=\"line2d_4\">\n      <g>\n       <use style=\"stroke:#000000;stroke-width:0.8;\" x=\"244.39139\" xlink:href=\"#ma33731e253\" y=\"228.439219\"/>\n      </g>\n     </g>\n     <g id=\"text_4\">\n      <!-- 30 -->\n      <g transform=\"translate(238.02889 243.037656)scale(0.1 -0.1)\">\n       <defs>\n        <path d=\"M 40.578125 39.3125 \nQ 47.65625 37.796875 51.625 33 \nQ 55.609375 28.21875 55.609375 21.1875 \nQ 55.609375 10.40625 48.1875 4.484375 \nQ 40.765625 -1.421875 27.09375 -1.421875 \nQ 22.515625 -1.421875 17.65625 -0.515625 \nQ 12.796875 0.390625 7.625 2.203125 \nL 7.625 11.71875 \nQ 11.71875 9.328125 16.59375 8.109375 \nQ 21.484375 6.890625 26.8125 6.890625 \nQ 36.078125 6.890625 40.9375 10.546875 \nQ 45.796875 14.203125 45.796875 21.1875 \nQ 45.796875 27.640625 41.28125 31.265625 \nQ 36.765625 34.90625 28.71875 34.90625 \nL 20.21875 34.90625 \nL 20.21875 43.015625 \nL 29.109375 43.015625 \nQ 36.375 43.015625 40.234375 45.921875 \nQ 44.09375 48.828125 44.09375 54.296875 \nQ 44.09375 59.90625 40.109375 62.90625 \nQ 36.140625 65.921875 28.71875 65.921875 \nQ 24.65625 65.921875 20.015625 65.03125 \nQ 15.375 64.15625 9.8125 62.3125 \nL 9.8125 71.09375 \nQ 15.4375 72.65625 20.34375 73.4375 \nQ 25.25 74.21875 29.59375 74.21875 \nQ 40.828125 74.21875 47.359375 69.109375 \nQ 53.90625 64.015625 53.90625 55.328125 \nQ 53.90625 49.265625 50.4375 45.09375 \nQ 46.96875 40.921875 40.578125 39.3125 \nz\n\" id=\"DejaVuSans-51\"/>\n       </defs>\n       <use xlink:href=\"#DejaVuSans-51\"/>\n       <use x=\"63.623047\" xlink:href=\"#DejaVuSans-48\"/>\n      </g>\n     </g>\n    </g>\n    <g id=\"xtick_5\">\n     <g id=\"line2d_5\">\n      <g>\n       <use style=\"stroke:#000000;stroke-width:0.8;\" x=\"306.506418\" xlink:href=\"#ma33731e253\" y=\"228.439219\"/>\n      </g>\n     </g>\n     <g id=\"text_5\">\n      <!-- 40 -->\n      <g transform=\"translate(300.143918 243.037656)scale(0.1 -0.1)\">\n       <defs>\n        <path d=\"M 37.796875 64.3125 \nL 12.890625 25.390625 \nL 37.796875 25.390625 \nz\nM 35.203125 72.90625 \nL 47.609375 72.90625 \nL 47.609375 25.390625 \nL 58.015625 25.390625 \nL 58.015625 17.1875 \nL 47.609375 17.1875 \nL 47.609375 0 \nL 37.796875 0 \nL 37.796875 17.1875 \nL 4.890625 17.1875 \nL 4.890625 26.703125 \nz\n\" id=\"DejaVuSans-52\"/>\n       </defs>\n       <use xlink:href=\"#DejaVuSans-52\"/>\n       <use x=\"63.623047\" xlink:href=\"#DejaVuSans-48\"/>\n      </g>\n     </g>\n    </g>\n    <g id=\"xtick_6\">\n     <g id=\"line2d_6\">\n      <g>\n       <use style=\"stroke:#000000;stroke-width:0.8;\" x=\"368.621446\" xlink:href=\"#ma33731e253\" y=\"228.439219\"/>\n      </g>\n     </g>\n     <g id=\"text_6\">\n      <!-- 50 -->\n      <g transform=\"translate(362.258946 243.037656)scale(0.1 -0.1)\">\n       <defs>\n        <path d=\"M 10.796875 72.90625 \nL 49.515625 72.90625 \nL 49.515625 64.59375 \nL 19.828125 64.59375 \nL 19.828125 46.734375 \nQ 21.96875 47.46875 24.109375 47.828125 \nQ 26.265625 48.1875 28.421875 48.1875 \nQ 40.625 48.1875 47.75 41.5 \nQ 54.890625 34.8125 54.890625 23.390625 \nQ 54.890625 11.625 47.5625 5.09375 \nQ 40.234375 -1.421875 26.90625 -1.421875 \nQ 22.3125 -1.421875 17.546875 -0.640625 \nQ 12.796875 0.140625 7.71875 1.703125 \nL 7.71875 11.625 \nQ 12.109375 9.234375 16.796875 8.0625 \nQ 21.484375 6.890625 26.703125 6.890625 \nQ 35.15625 6.890625 40.078125 11.328125 \nQ 45.015625 15.765625 45.015625 23.390625 \nQ 45.015625 31 40.078125 35.4375 \nQ 35.15625 39.890625 26.703125 39.890625 \nQ 22.75 39.890625 18.8125 39.015625 \nQ 14.890625 38.140625 10.796875 36.28125 \nz\n\" id=\"DejaVuSans-53\"/>\n       </defs>\n       <use xlink:href=\"#DejaVuSans-53\"/>\n       <use x=\"63.623047\" xlink:href=\"#DejaVuSans-48\"/>\n      </g>\n     </g>\n    </g>\n   </g>\n   <g id=\"matplotlib.axis_2\">\n    <g id=\"ytick_1\">\n     <g id=\"line2d_7\">\n      <defs>\n       <path d=\"M 0 0 \nL -3.5 0 \n\" id=\"mdaf3e81d7f\" style=\"stroke:#000000;stroke-width:0.8;\"/>\n      </defs>\n      <g>\n       <use style=\"stroke:#000000;stroke-width:0.8;\" x=\"42.828125\" xlink:href=\"#mdaf3e81d7f\" y=\"185.825349\"/>\n      </g>\n     </g>\n     <g id=\"text_7\">\n      <!-- 0.002 -->\n      <g transform=\"translate(7.2 189.624568)scale(0.1 -0.1)\">\n       <defs>\n        <path d=\"M 10.6875 12.40625 \nL 21 12.40625 \nL 21 0 \nL 10.6875 0 \nz\n\" id=\"DejaVuSans-46\"/>\n       </defs>\n       <use xlink:href=\"#DejaVuSans-48\"/>\n       <use x=\"63.623047\" xlink:href=\"#DejaVuSans-46\"/>\n       <use x=\"95.410156\" xlink:href=\"#DejaVuSans-48\"/>\n       <use x=\"159.033203\" xlink:href=\"#DejaVuSans-48\"/>\n       <use x=\"222.65625\" xlink:href=\"#DejaVuSans-50\"/>\n      </g>\n     </g>\n    </g>\n    <g id=\"ytick_2\">\n     <g id=\"line2d_8\">\n      <g>\n       <use style=\"stroke:#000000;stroke-width:0.8;\" x=\"42.828125\" xlink:href=\"#mdaf3e81d7f\" y=\"142.118817\"/>\n      </g>\n     </g>\n     <g id=\"text_8\">\n      <!-- 0.004 -->\n      <g transform=\"translate(7.2 145.918035)scale(0.1 -0.1)\">\n       <use xlink:href=\"#DejaVuSans-48\"/>\n       <use x=\"63.623047\" xlink:href=\"#DejaVuSans-46\"/>\n       <use x=\"95.410156\" xlink:href=\"#DejaVuSans-48\"/>\n       <use x=\"159.033203\" xlink:href=\"#DejaVuSans-48\"/>\n       <use x=\"222.65625\" xlink:href=\"#DejaVuSans-52\"/>\n      </g>\n     </g>\n    </g>\n    <g id=\"ytick_3\">\n     <g id=\"line2d_9\">\n      <g>\n       <use style=\"stroke:#000000;stroke-width:0.8;\" x=\"42.828125\" xlink:href=\"#mdaf3e81d7f\" y=\"98.412284\"/>\n      </g>\n     </g>\n     <g id=\"text_9\">\n      <!-- 0.006 -->\n      <g transform=\"translate(7.2 102.211503)scale(0.1 -0.1)\">\n       <defs>\n        <path d=\"M 33.015625 40.375 \nQ 26.375 40.375 22.484375 35.828125 \nQ 18.609375 31.296875 18.609375 23.390625 \nQ 18.609375 15.53125 22.484375 10.953125 \nQ 26.375 6.390625 33.015625 6.390625 \nQ 39.65625 6.390625 43.53125 10.953125 \nQ 47.40625 15.53125 47.40625 23.390625 \nQ 47.40625 31.296875 43.53125 35.828125 \nQ 39.65625 40.375 33.015625 40.375 \nz\nM 52.59375 71.296875 \nL 52.59375 62.3125 \nQ 48.875 64.0625 45.09375 64.984375 \nQ 41.3125 65.921875 37.59375 65.921875 \nQ 27.828125 65.921875 22.671875 59.328125 \nQ 17.53125 52.734375 16.796875 39.40625 \nQ 19.671875 43.65625 24.015625 45.921875 \nQ 28.375 48.1875 33.59375 48.1875 \nQ 44.578125 48.1875 50.953125 41.515625 \nQ 57.328125 34.859375 57.328125 23.390625 \nQ 57.328125 12.15625 50.6875 5.359375 \nQ 44.046875 -1.421875 33.015625 -1.421875 \nQ 20.359375 -1.421875 13.671875 8.265625 \nQ 6.984375 17.96875 6.984375 36.375 \nQ 6.984375 53.65625 15.1875 63.9375 \nQ 23.390625 74.21875 37.203125 74.21875 \nQ 40.921875 74.21875 44.703125 73.484375 \nQ 48.484375 72.75 52.59375 71.296875 \nz\n\" id=\"DejaVuSans-54\"/>\n       </defs>\n       <use xlink:href=\"#DejaVuSans-48\"/>\n       <use x=\"63.623047\" xlink:href=\"#DejaVuSans-46\"/>\n       <use x=\"95.410156\" xlink:href=\"#DejaVuSans-48\"/>\n       <use x=\"159.033203\" xlink:href=\"#DejaVuSans-48\"/>\n       <use x=\"222.65625\" xlink:href=\"#DejaVuSans-54\"/>\n      </g>\n     </g>\n    </g>\n    <g id=\"ytick_4\">\n     <g id=\"line2d_10\">\n      <g>\n       <use style=\"stroke:#000000;stroke-width:0.8;\" x=\"42.828125\" xlink:href=\"#mdaf3e81d7f\" y=\"54.705751\"/>\n      </g>\n     </g>\n     <g id=\"text_10\">\n      <!-- 0.008 -->\n      <g transform=\"translate(7.2 58.50497)scale(0.1 -0.1)\">\n       <defs>\n        <path d=\"M 31.78125 34.625 \nQ 24.75 34.625 20.71875 30.859375 \nQ 16.703125 27.09375 16.703125 20.515625 \nQ 16.703125 13.921875 20.71875 10.15625 \nQ 24.75 6.390625 31.78125 6.390625 \nQ 38.8125 6.390625 42.859375 10.171875 \nQ 46.921875 13.96875 46.921875 20.515625 \nQ 46.921875 27.09375 42.890625 30.859375 \nQ 38.875 34.625 31.78125 34.625 \nz\nM 21.921875 38.8125 \nQ 15.578125 40.375 12.03125 44.71875 \nQ 8.5 49.078125 8.5 55.328125 \nQ 8.5 64.0625 14.71875 69.140625 \nQ 20.953125 74.21875 31.78125 74.21875 \nQ 42.671875 74.21875 48.875 69.140625 \nQ 55.078125 64.0625 55.078125 55.328125 \nQ 55.078125 49.078125 51.53125 44.71875 \nQ 48 40.375 41.703125 38.8125 \nQ 48.828125 37.15625 52.796875 32.3125 \nQ 56.78125 27.484375 56.78125 20.515625 \nQ 56.78125 9.90625 50.3125 4.234375 \nQ 43.84375 -1.421875 31.78125 -1.421875 \nQ 19.734375 -1.421875 13.25 4.234375 \nQ 6.78125 9.90625 6.78125 20.515625 \nQ 6.78125 27.484375 10.78125 32.3125 \nQ 14.796875 37.15625 21.921875 38.8125 \nz\nM 18.3125 54.390625 \nQ 18.3125 48.734375 21.84375 45.5625 \nQ 25.390625 42.390625 31.78125 42.390625 \nQ 38.140625 42.390625 41.71875 45.5625 \nQ 45.3125 48.734375 45.3125 54.390625 \nQ 45.3125 60.0625 41.71875 63.234375 \nQ 38.140625 66.40625 31.78125 66.40625 \nQ 25.390625 66.40625 21.84375 63.234375 \nQ 18.3125 60.0625 18.3125 54.390625 \nz\n\" id=\"DejaVuSans-56\"/>\n       </defs>\n       <use xlink:href=\"#DejaVuSans-48\"/>\n       <use x=\"63.623047\" xlink:href=\"#DejaVuSans-46\"/>\n       <use x=\"95.410156\" xlink:href=\"#DejaVuSans-48\"/>\n       <use x=\"159.033203\" xlink:href=\"#DejaVuSans-48\"/>\n       <use x=\"222.65625\" xlink:href=\"#DejaVuSans-56\"/>\n      </g>\n     </g>\n    </g>\n    <g id=\"ytick_5\">\n     <g id=\"line2d_11\">\n      <g>\n       <use style=\"stroke:#000000;stroke-width:0.8;\" x=\"42.828125\" xlink:href=\"#mdaf3e81d7f\" y=\"10.999219\"/>\n      </g>\n     </g>\n     <g id=\"text_11\">\n      <!-- 0.010 -->\n      <g transform=\"translate(7.2 14.798437)scale(0.1 -0.1)\">\n       <use xlink:href=\"#DejaVuSans-48\"/>\n       <use x=\"63.623047\" xlink:href=\"#DejaVuSans-46\"/>\n       <use x=\"95.410156\" xlink:href=\"#DejaVuSans-48\"/>\n       <use x=\"159.033203\" xlink:href=\"#DejaVuSans-49\"/>\n       <use x=\"222.65625\" xlink:href=\"#DejaVuSans-48\"/>\n      </g>\n     </g>\n    </g>\n   </g>\n   <g id=\"line2d_12\">\n    <path clip-path=\"url(#p694b572ad4)\" d=\"M 58.046307 172.033496 \nL 64.25781 213.948689 \nL 70.469312 214.188705 \nL 76.680815 214.517652 \nL 82.892318 212.595624 \nL 89.103821 215.651436 \nL 95.315324 216.340249 \nL 101.526826 217.032367 \nL 107.738329 217.634684 \nL 113.949832 218.053906 \nL 120.161335 218.288517 \nL 126.372837 218.711207 \nL 132.58434 218.988876 \nL 138.795843 217.176265 \nL 145.007346 218.704813 \nL 151.218849 219.290301 \nL 157.430351 219.53665 \nL 163.641854 219.740982 \nL 169.853357 219.88633 \nL 176.06486 220.01371 \nL 182.276362 220.708927 \nL 188.487865 220.869896 \nL 194.699368 220.9384 \nL 200.910871 220.993882 \nL 207.122374 221.036255 \nL 213.333876 221.069151 \nL 219.545379 221.09806 \nL 225.756882 221.1306 \nL 231.968385 221.175045 \nL 238.179888 221.212118 \nL 244.39139 221.278511 \nL 250.602893 221.312693 \nL 256.814396 221.309508 \nL 263.025899 221.319829 \nL 269.237401 221.32884 \nL 275.448904 221.327395 \nL 281.660407 221.343133 \nL 287.87191 221.348693 \nL 294.083413 221.346084 \nL 300.294915 221.351324 \nL 306.506418 221.360612 \nL 312.717921 221.362081 \nL 318.929424 221.373872 \nL 325.140926 221.35962 \nL 331.352429 221.371934 \nL 337.563932 221.369449 \nL 343.775435 221.366783 \nL 349.986938 221.379667 \nL 356.19844 221.368276 \nL 362.409943 221.360063 \n\" style=\"fill:none;stroke:#1f77b4;stroke-linecap:square;stroke-width:1.5;\"/>\n   </g>\n   <g id=\"line2d_13\">\n    <path clip-path=\"url(#p694b572ad4)\" d=\"M 67.392688 -1 \nL 70.469312 208.074406 \nL 76.680815 119.083727 \nL 82.892318 213.679374 \nL 89.103821 213.567413 \nL 95.315324 213.567224 \nL 101.526826 214.008638 \nL 107.738329 214.276457 \nL 113.949832 214.241643 \nL 120.161335 214.348211 \nL 126.372837 204.979293 \nL 132.58434 214.246785 \nL 138.795843 214.082855 \nL 145.007346 213.506429 \nL 151.218849 212.365104 \nL 157.430351 213.573956 \nL 163.641854 212.215408 \nL 169.853357 213.56437 \nL 176.06486 213.879514 \nL 182.276362 214.023526 \nL 188.487865 213.909153 \nL 194.699368 213.939748 \nL 200.910871 213.810749 \nL 207.122374 213.737031 \nL 213.333876 213.848341 \nL 219.545379 213.896191 \nL 225.756882 213.899578 \nL 231.968385 213.880679 \nL 238.179888 213.809641 \nL 244.39139 213.775271 \nL 250.602893 213.817436 \nL 256.814396 213.787214 \nL 263.025899 213.781496 \nL 269.237401 213.756998 \nL 275.448904 213.75167 \nL 281.660407 213.744209 \nL 287.87191 213.734733 \nL 294.083413 213.77942 \nL 300.294915 213.711559 \nL 306.506418 213.742936 \nL 312.717921 213.754422 \nL 318.929424 213.764233 \nL 325.140926 213.750974 \nL 331.352429 213.761172 \nL 337.563932 213.7644 \nL 343.775435 213.747248 \nL 349.986938 213.747976 \nL 356.19844 213.750698 \nL 362.409943 213.74319 \n\" style=\"fill:none;stroke:#ff7f0e;stroke-linecap:square;stroke-width:1.5;\"/>\n   </g>\n   <g id=\"patch_3\">\n    <path d=\"M 42.828125 228.439219 \nL 42.828125 10.999219 \n\" style=\"fill:none;stroke:#000000;stroke-linecap:square;stroke-linejoin:miter;stroke-width:0.8;\"/>\n   </g>\n   <g id=\"patch_4\">\n    <path d=\"M 377.628125 228.439219 \nL 377.628125 10.999219 \n\" style=\"fill:none;stroke:#000000;stroke-linecap:square;stroke-linejoin:miter;stroke-width:0.8;\"/>\n   </g>\n   <g id=\"patch_5\">\n    <path d=\"M 42.828125 228.439219 \nL 377.628125 228.439219 \n\" style=\"fill:none;stroke:#000000;stroke-linecap:square;stroke-linejoin:miter;stroke-width:0.8;\"/>\n   </g>\n   <g id=\"patch_6\">\n    <path d=\"M 42.828125 10.999219 \nL 377.628125 10.999219 \n\" style=\"fill:none;stroke:#000000;stroke-linecap:square;stroke-linejoin:miter;stroke-width:0.8;\"/>\n   </g>\n  </g>\n </g>\n <defs>\n  <clipPath id=\"p694b572ad4\">\n   <rect height=\"217.44\" width=\"334.8\" x=\"42.828125\" y=\"10.999219\"/>\n  </clipPath>\n </defs>\n</svg>\n",
      "image/png": "[encoded data removed]"
     },
     "metadata": {
      "needs_background": "light"
     }
    }
   ],
   "source": [
    "plt.ylim(0.00005, 0.01)\n",
    "plt.plot(hist.history['loss'])\n",
    "plt.plot(hist.history['val_loss'])"
   ]
  },
  {
   "cell_type": "code",
   "execution_count": 11,
   "metadata": {},
   "outputs": [],
   "source": [
    "import csv"
   ]
  },
  {
   "cell_type": "code",
   "execution_count": 12,
   "metadata": {},
   "outputs": [],
   "source": [
    "with open('data/ct.csv', 'w', newline='') as f:\n",
    "    writer = csv.writer(f)\n",
    "    writer.writerow(hist.history['loss'])\n",
    "    writer.writerow(hist.history['val_loss'])"
   ]
  },
  {
   "cell_type": "code",
   "execution_count": 18,
   "metadata": {},
   "outputs": [],
   "source": [
    "with open('data/nu.csv', 'w', newline='') as f:\n",
    "    writer = csv.writer(f)\n",
    "    writer.writerow(loss)\n",
    "    writer.writerow(val_loss)"
   ]
  },
  {
   "cell_type": "code",
   "execution_count": null,
   "metadata": {},
   "outputs": [],
   "source": []
  }
 ],
 "metadata": {
  "kernelspec": {
   "display_name": "Python 3",
   "language": "python",
   "name": "python3"
  }
 },
 "nbformat": 4,
 "nbformat_minor": 4
}