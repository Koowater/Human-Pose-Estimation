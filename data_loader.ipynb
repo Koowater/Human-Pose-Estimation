{
 "cells": [
  {
   "cell_type": "code",
   "execution_count": 1,
   "metadata": {},
   "outputs": [],
   "source": [
    "from scipy import io\n",
    "import pandas as pd\n",
    "import numpy as np\n",
    "from tqdm import trange"
   ]
  },
  {
   "cell_type": "code",
   "execution_count": 2,
   "metadata": {},
   "outputs": [],
   "source": [
    "mat_file = io.loadmat('data/mpii_human_pose_v1_u12_1.mat', struct_as_record=False)"
   ]
  },
  {
   "cell_type": "code",
   "execution_count": 3,
   "metadata": {},
   "outputs": [
    {
     "output_type": "stream",
     "name": "stdout",
     "text": [
      "<class 'dict'>\ndict_keys(['__header__', '__version__', '__globals__', 'RELEASE'])\n{'__header__': b'MATLAB 5.0 MAT-file, Platform: GLNXA64, Created on: Tue Sep 23 22:09:02 2014', '__version__': '1.0', '__globals__': [], 'RELEASE': array([[<scipy.io.matlab.mio5_params.mat_struct object at 0x7f09547e0490>]],\n      dtype=object)}\n"
     ]
    }
   ],
   "source": [
    "print(type(mat_file))\n",
    "print(mat_file.keys())\n",
    "print(mat_file)"
   ]
  },
  {
   "cell_type": "code",
   "execution_count": 4,
   "metadata": {},
   "outputs": [],
   "source": [
    "release = mat_file['RELEASE']"
   ]
  },
  {
   "cell_type": "code",
   "execution_count": 5,
   "metadata": {},
   "outputs": [],
   "source": [
    "release = release[0][0]"
   ]
  },
  {
   "cell_type": "code",
   "execution_count": 6,
   "metadata": {},
   "outputs": [
    {
     "output_type": "stream",
     "name": "stdout",
     "text": [
      "['annolist', 'img_train', 'version', 'single_person', 'act', 'video_list']\n"
     ]
    }
   ],
   "source": [
    "print(release._fieldnames)"
   ]
  },
  {
   "cell_type": "code",
   "execution_count": 7,
   "metadata": {},
   "outputs": [
    {
     "output_type": "stream",
     "name": "stdout",
     "text": [
      "(1, 24987) (1, 24987) (24987, 1) (24987, 1) (1, 2821) (1,)\n"
     ]
    }
   ],
   "source": [
    "annolist = release.__dict__['annolist']\n",
    "img_tra = release.__dict__['img_train']\n",
    "act = release.__dict__['act']\n",
    "single_person = release.__dict__['single_person']\n",
    "video_list = release.__dict__['video_list']\n",
    "version = release.__dict__['version']\n",
    "print(annolist.shape,img_tra.shape,act.shape, single_person.shape, video_list.shape, version.shape)"
   ]
  },
  {
   "cell_type": "code",
   "execution_count": 8,
   "metadata": {},
   "outputs": [],
   "source": [
    "n = annolist.shape[1]"
   ]
  },
  {
   "cell_type": "code",
   "execution_count": 9,
   "metadata": {},
   "outputs": [
    {
     "output_type": "stream",
     "name": "stdout",
     "text": [
      "['NAME', 'r ankle_X', 'r ankle_Y', '  r knee_X', 'r knee_Y', 'r hip_X', 'r hip_Y', 'l hip_X', 'l hip_Y', 'l knee_X', 'l knee_Y', 'l ankle_X', 'l ankle_Y', 'pelvis_X', 'pelvis_Y', 'thorax_X', 'thorax_Y', 'upper neck_X', 'upper neck_Y', 'head top_X', 'head top_Y', 'r wrist_X', 'r wrist_Y', 'r elbow_X', 'r elbow_Y', 'r shoulder_X', 'r shoulder_Y', 'l shoulder_X', 'l shoulder_Y', 'l elbow_X', 'l elbow_Y', 'l wrist_X', 'l wrist_Y', 'Scale', 'Activity', 'Category']\n"
     ]
    }
   ],
   "source": [
    "data_arr = ['NAME', \n",
    "            'r ankle_X',    'r ankle_Y',  '  r knee_X',     'r knee_Y', \n",
    "            'r hip_X',      'r hip_Y',      'l hip_X',      'l hip_Y',    \n",
    "            'l knee_X',     'l knee_Y',     'l ankle_X',    'l ankle_Y',\n",
    "            'pelvis_X',     'pelvis_Y',     'thorax_X',     'thorax_Y',\n",
    "            'upper neck_X', 'upper neck_Y', 'head top_X',   'head top_Y', \n",
    "            'r wrist_X',    'r wrist_Y',    'r elbow_X',    'r elbow_Y',\n",
    "            'r shoulder_X', 'r shoulder_Y', 'l shoulder_X', 'l shoulder_Y',\n",
    "            'l elbow_X',    'l elbow_Y',    'l wrist_X',    'l wrist_Y',\n",
    "            'Scale',        'Activity',     'Category']\n",
    "print(data_arr)"
   ]
  },
  {
   "cell_type": "code",
   "execution_count": 10,
   "metadata": {},
   "outputs": [],
   "source": [
    "data = pd.DataFrame(columns=data_arr)"
   ]
  },
  {
   "cell_type": "code",
   "execution_count": 15,
   "metadata": {},
   "outputs": [],
   "source": [
    "err = []"
   ]
  },
  {
   "cell_type": "code",
   "execution_count": 16,
   "metadata": {},
   "outputs": [
    {
     "output_type": "stream",
     "name": "stderr",
     "text": [
      "100%|██████████| 24987/24987 [00:00<00:00, 392601.75it/s]\n"
     ]
    }
   ],
   "source": [
    "for ix in trange(0, annolist.shape[1]):\n",
    "    if img_tra[0,ix] != 0:\n",
    "        err.append('if img_tra[0,ix] != 0:')\n",
    "        continue\n",
    "    temp_arr = []\n",
    "    obj_list = annolist[0,ix]\n",
    "    obj_act = act[ix,0]\n",
    "    \n",
    "    rect = obj_list.__dict__['annorect']\n",
    "    img_d = obj_list.__dict__['image']\n",
    "    if rect.shape[0] == 0:\n",
    "        err.append('if rect.shape[0] == 0:')\n",
    "        continue\n",
    "        \n",
    "    obj_rect = rect[0,0]\n",
    "    obj_img = img_d[0,0]\n",
    "    \n",
    "    \n",
    "    if 'annopoints' not in obj_rect._fieldnames:\n",
    "        err.append('if \\'annopoints\\' not in obj_rect._fieldnames:')\n",
    "        continue\n",
    "    \n",
    "    name_d = obj_img.__dict__['name']\n",
    "    name = name_d[0]\n",
    "    temp_arr.append(name)\n",
    "    annopoints = obj_rect.__dict__['annopoints']\n",
    "    if annopoints.shape[0] == 0:\n",
    "        err.append('if annopoints.shape[0] == 0:')\n",
    "        continue\n",
    "    obj_points = annopoints[0,0]\n",
    "    points = obj_points.__dict__['point']\n",
    "    cnt = 0\n",
    "    px = 0\n",
    "    \n",
    "    for n in range(0,32):\n",
    "        temp_arr.append(-1)\n",
    "    \n",
    "    \n",
    "    for px in range(0,points.shape[1]):\n",
    "        po = points[0,px]\n",
    "        po_id = po.__dict__['id']\n",
    "        \n",
    "        po_x = po.__dict__['x']\n",
    "        po_y = po.__dict__['y']\n",
    "        ind = 2*po_id[0][0]+1\n",
    "        temp_arr[ind] = po_x[0][0]\n",
    "        temp_arr[ind+1] = po_y[0][0]\n",
    "       \n",
    "        \n",
    "        \n",
    "    scale = obj_rect.__dict__['scale']\n",
    "    temp_arr.append(scale[0][0])\n",
    "    \n",
    "    activity = act[ix,0]\n",
    "    \n",
    "    a_n = activity.act_name\n",
    "    c_n = activity.cat_name\n",
    "    \n",
    "    if a_n.shape[0]==0:\n",
    "        temp_arr.append(a_n)\n",
    "    else:\n",
    "        temp_arr.append(activity.act_name[0])\n",
    "    if c_n.shape[0]==0:\n",
    "        temp_arr.append(c_n)\n",
    "    else:\n",
    "        temp_arr.append(activity.cat_name[0])\n",
    "    \n",
    "    temp_data_f = pd.DataFrame([temp_arr], columns=data_arr)\n",
    "    \n",
    "    data = pd.concat([data, temp_data_f]) "
   ]
  },
  {
   "cell_type": "code",
   "execution_count": 18,
   "metadata": {},
   "outputs": [
    {
     "output_type": "stream",
     "name": "stdout",
     "text": [
      "24987\n"
     ]
    }
   ],
   "source": [
    "print(len(err))"
   ]
  },
  {
   "cell_type": "code",
   "execution_count": 19,
   "metadata": {},
   "outputs": [
    {
     "output_type": "stream",
     "name": "stdout",
     "text": [
      "[\"if 'annopoints' not in obj_rect._fieldnames:\", \"if 'annopoints' not in obj_rect._fieldnames:\", \"if 'annopoints' not in obj_rect._fieldnames:\", \"if 'annopoints' not in obj_rect._fieldnames:\", 'if img_tra[0,ix] != 0:', 'if img_tra[0,ix] != 0:', 'if img_tra[0,ix] != 0:', 'if img_tra[0,ix] != 0:', 'if img_tra[0,ix] != 0:', 'if img_tra[0,ix] != 0:']\n"
     ]
    }
   ],
   "source": [
    "print(err[:10])"
   ]
  },
  {
   "cell_type": "code",
   "execution_count": 12,
   "metadata": {},
   "outputs": [],
   "source": [
    "pd.set_option('display.max_row', 500)\n",
    "pd.set_option('display.max_columns', 100)"
   ]
  },
  {
   "cell_type": "code",
   "execution_count": 13,
   "metadata": {},
   "outputs": [
    {
     "output_type": "stream",
     "name": "stdout",
     "text": [
      "(0, 36)\n"
     ]
    }
   ],
   "source": [
    "print(data.shape)"
   ]
  },
  {
   "cell_type": "code",
   "execution_count": 14,
   "metadata": {},
   "outputs": [
    {
     "output_type": "execute_result",
     "data": {
      "text/plain": [
       "Empty DataFrame\n",
       "Columns: [NAME, r ankle_X, r ankle_Y,   r knee_X, r knee_Y, r hip_X, r hip_Y, l hip_X, l hip_Y, l knee_X, l knee_Y, l ankle_X, l ankle_Y, pelvis_X, pelvis_Y, thorax_X, thorax_Y, upper neck_X, upper neck_Y, head top_X, head top_Y, r wrist_X, r wrist_Y, r elbow_X, r elbow_Y, r shoulder_X, r shoulder_Y, l shoulder_X, l shoulder_Y, l elbow_X, l elbow_Y, l wrist_X, l wrist_Y, Scale, Activity, Category]\n",
       "Index: []"
      ],
      "text/html": "<div>\n<style scoped>\n    .dataframe tbody tr th:only-of-type {\n        vertical-align: middle;\n    }\n\n    .dataframe tbody tr th {\n        vertical-align: top;\n    }\n\n    .dataframe thead th {\n        text-align: right;\n    }\n</style>\n<table border=\"1\" class=\"dataframe\">\n  <thead>\n    <tr style=\"text-align: right;\">\n      <th></th>\n      <th>NAME</th>\n      <th>r ankle_X</th>\n      <th>r ankle_Y</th>\n      <th>r knee_X</th>\n      <th>r knee_Y</th>\n      <th>r hip_X</th>\n      <th>r hip_Y</th>\n      <th>l hip_X</th>\n      <th>l hip_Y</th>\n      <th>l knee_X</th>\n      <th>l knee_Y</th>\n      <th>l ankle_X</th>\n      <th>l ankle_Y</th>\n      <th>pelvis_X</th>\n      <th>pelvis_Y</th>\n      <th>thorax_X</th>\n      <th>thorax_Y</th>\n      <th>upper neck_X</th>\n      <th>upper neck_Y</th>\n      <th>head top_X</th>\n      <th>head top_Y</th>\n      <th>r wrist_X</th>\n      <th>r wrist_Y</th>\n      <th>r elbow_X</th>\n      <th>r elbow_Y</th>\n      <th>r shoulder_X</th>\n      <th>r shoulder_Y</th>\n      <th>l shoulder_X</th>\n      <th>l shoulder_Y</th>\n      <th>l elbow_X</th>\n      <th>l elbow_Y</th>\n      <th>l wrist_X</th>\n      <th>l wrist_Y</th>\n      <th>Scale</th>\n      <th>Activity</th>\n      <th>Category</th>\n    </tr>\n  </thead>\n  <tbody>\n  </tbody>\n</table>\n</div>"
     },
     "metadata": {},
     "execution_count": 14
    }
   ],
   "source": [
    "data.head(50)"
   ]
  },
  {
   "cell_type": "code",
   "execution_count": 17,
   "metadata": {},
   "outputs": [],
   "source": [
    "data.to_csv('data/mpii_dataset_d.csv')"
   ]
  },
  {
   "cell_type": "code",
   "execution_count": null,
   "metadata": {},
   "outputs": [],
   "source": []
  }
 ],
 "metadata": {
  "kernelspec": {
   "display_name": "Python 3",
   "language": "python",
   "name": "python3"
  },
  "language_info": {
   "codemirror_mode": {
    "name": "ipython",
    "version": 3
   },
   "file_extension": ".py",
   "mimetype": "text/x-python",
   "name": "python",
   "nbconvert_exporter": "python",
   "pygments_lexer": "ipython3",
   "version": "3.8.5-final"
  }
 },
 "nbformat": 4,
 "nbformat_minor": 2
}